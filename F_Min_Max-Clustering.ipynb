{
 "cells": [
  {
   "cell_type": "markdown",
   "metadata": {},
   "source": [
    "### name : Omkar Thawakar\n",
    "#### Reg No : 2015BCS003  __ ____Roll_No : A-08 _____ Batch: A-01 \n",
    "#### Aim : Implement Fuzzy Min Max Neural Network for clustering"
   ]
  },
  {
   "cell_type": "code",
   "execution_count": 114,
   "metadata": {
    "collapsed": true
   },
   "outputs": [],
   "source": [
    "import numpy as np\n",
    "import pandas as pd"
   ]
  },
  {
   "cell_type": "code",
   "execution_count": 115,
   "metadata": {
    "collapsed": true
   },
   "outputs": [],
   "source": [
    "class FuzzyMinMaxNN:\n",
    "    \n",
    "    def __init__(self,sensitivity,theta=0.4):\n",
    "        self.gamma = sensitivity\n",
    "        self.clasess = None\n",
    "        self.V = []\n",
    "        self.W = []\n",
    "        self.theta = theta\n",
    "        self.confusion_matrix = None\n",
    "    \n",
    "    \n",
    "    def func(self,x,gamma):\n",
    "        if x*gamma>1:\n",
    "            return 1\n",
    "        elif 0<=x*gamma<=1 :\n",
    "            return x*gamma\n",
    "        else:\n",
    "            return 0\n",
    "\n",
    "    def fuzzy_membership(self,ah,v,w,gamma=1):\n",
    "        \"\"\"\n",
    "            returns the fuzzy menbership function :\n",
    "            b_i(xh,v,w) = 1/2n*(------)\n",
    "        \"\"\"\n",
    "        return sum([(1-self.func(ah[i]-w[i],gamma)-self.func(v[i]-ah[i],gamma)) for i in range(len(ah))])/len(ah)\n",
    "    \n",
    "    def get_hyperbox(self,x):\n",
    "        \n",
    "        \"\"\"\n",
    "            If no hyperbox present initially so create new\n",
    "        \"\"\"\n",
    "        if len(self.V)==0 and len(self.W)==0 :\n",
    "            self.V.append(x)\n",
    "            self.W.append(x)\n",
    "            expand = False\n",
    "            return len(self.V)-1 , expand \n",
    "                \n",
    "        \"\"\"\n",
    "            returns the most sutaible hyperbox for input pattern x\n",
    "            otherwise None\n",
    "        \"\"\"\n",
    "        mylist = []\n",
    "        for i in range(len(self.V)):\n",
    "            mylist.append(self.fuzzy_membership(x,self.V[i],self.W[i]))\n",
    "        \n",
    "        if len(mylist)>0:\n",
    "            for box in sorted(mylist)[::-1]:\n",
    "                i = mylist.index(box)\n",
    "\n",
    "                n_theta = sum([(max(self.W[i][_],x[_]) - min(self.V[i][_],x[_])) for _ in range(len(x))])\n",
    "                \n",
    "                if len(x)*self.theta >= n_theta :\n",
    "                    expand = True\n",
    "                    return i,expand\n",
    "            '''\n",
    "                No hyperbox follow expansion criteria so create new\n",
    "            '''\n",
    "            self.V.append(x)\n",
    "            self.W.append(x)\n",
    "            expand = False\n",
    "            return len(self.V)-1 , expand\n",
    "            \n",
    "        else:\n",
    "            \"\"\"\n",
    "                If no hyperbox present for pattern x of class d so create new \n",
    "            \"\"\"\n",
    "            self.V.append(x)\n",
    "            self.W.append(x)\n",
    "            expand = False\n",
    "            return len(self.V)-1,expand\n",
    "    \n",
    "    def expand(self,x,key):\n",
    "        self.V[key] = [min(self.V[key][i],x[i]) for i in range(len(x))]\n",
    "        self.W[key] = [max(self.W[key][i],x[i]) for i in range(len(x))]\n",
    "        \n",
    "    \n",
    "    def overlap_Test(self):\n",
    "        del_old = 1\n",
    "        del_new = 1\n",
    "        box_1,box_2,delta = -1,-1,-1\n",
    "        for j in range(len(self.V)):\n",
    "            for k in range(j+1,len(self.V)):\n",
    "                \n",
    "                for i in range(len(self.V[j])):\n",
    "                    \n",
    "                    \"\"\"\n",
    "                        Test Four cases given by Patrick Simpson\n",
    "                    \"\"\"\n",
    "                    \n",
    "                    if (self.V[j][i] < self.V[k][i] < self.W[j][i] < self.W[k][i]) :\n",
    "                        self.V[k][i] = self.W[j][i] = (self.V[k][i]+self.W[j][i])/2\n",
    "                        \n",
    "                    elif (self.V[k][i] < self.V[j][i] < self.W[k][i] < self.W[j][i]) :\n",
    "                        self.V[j][i] = self.W[k][i] = (self.V[j][i]+self.W[k][i])/2\n",
    "                        \n",
    "                    elif (self.V[j][i] < self.V[k][i] <= self.W[k][i] < self.W[j][i]) :\n",
    "                        if (self.W[k][i]-self.V[j][i])<(self.W[j][i]-self.V[k][i]) :\n",
    "                            self.V[j][i] = self.W[k][i]\n",
    "                        else:\n",
    "                            self.W[j][i] = self.V[k][i]\n",
    "                    elif (self.V[k][i] < self.V[j][i] < self.W[j][i] < self.W[k][i]) :\n",
    "                        if (self.W[k][i]-self.V[j][i])<(self.W[j][i]-self.V[k][i]):\n",
    "                            self.W[k][i] = self.V[j][i]\n",
    "                        else:\n",
    "                            self.V[k][i] = self.W[j][i]\n",
    "                           \n",
    "    \n",
    "    def predict(self,x):\n",
    "        mylist = []\n",
    "        for i in range(len(self.V)):\n",
    "            mylist.append([self.fuzzy_membership(x,self.V[i],self.W[i])])\n",
    "            \n",
    "        for i in range(len(mylist)):\n",
    "            print('pattern {} belongs to cluster {} with fuzzy membership value : {}'.format(x,i+1,mylist[i]))\n",
    "        \n",
    "            \n",
    "                    \n",
    "    def train(self,X,epochs):\n",
    "        for _ in range(epochs):\n",
    "            print('epoch : {}'.format(_+1))\n",
    "            print('='*50)\n",
    "\n",
    "            for x in X:\n",
    "                '''Get most sutaible hyperbox!!'''\n",
    "                print('input pattern : ',x )\n",
    "                \n",
    "                i , expand = self.get_hyperbox(x)\n",
    "                \n",
    "                #print('Hyperbox : {} , {} '.format(self.V[i],self.W[i])  )\n",
    "\n",
    "                if expand:\n",
    "                    self.expand(x,i)\n",
    "                    print(\"Expanded Hyperbox : \",self.V[i] , self.W[i])\n",
    "                    self.overlap_Test()\n",
    "                    print(\"Hyperboxes : \")\n",
    "                    print(self.V)\n",
    "                    print(self.W)\n",
    "                    \n",
    "                print('='*70)\n",
    "            \n",
    "        print('final hyperbox : ')\n",
    "        print('V : ',self.V)\n",
    "        print('W : ',self.W)\n",
    "        \n"
   ]
  },
  {
   "cell_type": "code",
   "execution_count": 116,
   "metadata": {
    "collapsed": true
   },
   "outputs": [],
   "source": [
    "fuzzy = FuzzyMinMaxNN(1,theta=0.4)    "
   ]
  },
  {
   "cell_type": "markdown",
   "metadata": {},
   "source": [
    "## Dataset"
   ]
  },
  {
   "cell_type": "code",
   "execution_count": 117,
   "metadata": {
    "collapsed": true
   },
   "outputs": [],
   "source": [
    "X = [[0.2,0.2],[0.6,0.6],[0.7,0.7],[0.4,0.7],[0.7,0.4]]"
   ]
  },
  {
   "cell_type": "code",
   "execution_count": 118,
   "metadata": {
    "scrolled": false
   },
   "outputs": [
    {
     "name": "stdout",
     "output_type": "stream",
     "text": [
      "epoch : 1\n",
      "==================================================\n",
      "input pattern :  [0.2, 0.2]\n",
      "======================================================================\n",
      "input pattern :  [0.6, 0.6]\n",
      "Expanded Hyperbox :  [0.2, 0.2] [0.6, 0.6]\n",
      "Hyperboxes : \n",
      "[[0.2, 0.2]]\n",
      "[[0.6, 0.6]]\n",
      "======================================================================\n",
      "input pattern :  [0.7, 0.7]\n",
      "======================================================================\n",
      "input pattern :  [0.4, 0.7]\n",
      "Expanded Hyperbox :  [0.4, 0.7] [0.7, 0.7]\n",
      "Hyperboxes : \n",
      "[[0.2, 0.2], [0.5, 0.7]]\n",
      "[[0.5, 0.6], [0.7, 0.7]]\n",
      "======================================================================\n",
      "input pattern :  [0.7, 0.4]\n",
      "Expanded Hyperbox :  [0.5, 0.4] [0.7, 0.7]\n",
      "Hyperboxes : \n",
      "[[0.2, 0.2], [0.5, 0.5]]\n",
      "[[0.5, 0.5], [0.7, 0.7]]\n",
      "======================================================================\n",
      "final hyperbox : \n",
      "V :  [[0.2, 0.2], [0.5, 0.5]]\n",
      "W :  [[0.5, 0.5], [0.7, 0.7]]\n"
     ]
    }
   ],
   "source": [
    "fuzzy.train(X,1)"
   ]
  },
  {
   "cell_type": "markdown",
   "metadata": {},
   "source": [
    "### Testing of pattern "
   ]
  },
  {
   "cell_type": "code",
   "execution_count": 119,
   "metadata": {},
   "outputs": [
    {
     "name": "stdout",
     "output_type": "stream",
     "text": [
      "pattern [0.2, 0.2] belongs to cluster 1 with fuzzy membership value : [1.0]\n",
      "pattern [0.2, 0.2] belongs to cluster 2 with fuzzy membership value : [0.7]\n",
      "================================================================================\n",
      "pattern [0.6, 0.6] belongs to cluster 1 with fuzzy membership value : [0.9]\n",
      "pattern [0.6, 0.6] belongs to cluster 2 with fuzzy membership value : [1.0]\n",
      "================================================================================\n",
      "pattern [0.7, 0.7] belongs to cluster 1 with fuzzy membership value : [0.8]\n",
      "pattern [0.7, 0.7] belongs to cluster 2 with fuzzy membership value : [1.0]\n",
      "================================================================================\n",
      "pattern [0.4, 0.7] belongs to cluster 1 with fuzzy membership value : [0.9]\n",
      "pattern [0.4, 0.7] belongs to cluster 2 with fuzzy membership value : [0.95]\n",
      "================================================================================\n",
      "pattern [0.7, 0.4] belongs to cluster 1 with fuzzy membership value : [0.9]\n",
      "pattern [0.7, 0.4] belongs to cluster 2 with fuzzy membership value : [0.95]\n",
      "================================================================================\n"
     ]
    }
   ],
   "source": [
    "for x in X:\n",
    "    fuzzy.predict(x)\n",
    "    print('='*80)"
   ]
  },
  {
   "cell_type": "markdown",
   "metadata": {},
   "source": [
    "### Visualization of HyperBoxes"
   ]
  },
  {
   "cell_type": "code",
   "execution_count": 122,
   "metadata": {
    "scrolled": true
   },
   "outputs": [
    {
     "data": {
      "image/png": "[encoded data removed]",
      "text/plain": [
       "<matplotlib.figure.Figure at 0x7efd05dc2da0>"
      ]
     },
     "metadata": {},
     "output_type": "display_data"
    }
   ],
   "source": [
    "import matplotlib.pyplot as plt\n",
    "import matplotlib.patches as patches\n",
    "\n",
    "def draw_box(ax,a,b,label,color):\n",
    "    width = abs(a[0] - b[0])\n",
    "    height = abs(a[1] - b[1])\n",
    "    ax.add_patch(patches.Rectangle(a, width, height, fill=False,edgecolor=color))\n",
    "\n",
    "\"\"\"\n",
    "    plot dataset\n",
    "\"\"\"\n",
    "fig1 = plt.figure()\n",
    "ax = fig1.add_subplot(111, aspect='equal',alpha=0.7)\n",
    "\n",
    "        \n",
    "\"\"\"\n",
    "    plot Hyperboxes\n",
    "\"\"\"\n",
    "colors = ['g','r','cyan','k','yellow']\n",
    "\n",
    "for i in range(len(fuzzy.V)):\n",
    "    draw_box(ax,fuzzy.V[i],fuzzy.W[i],i+1,color=colors[i])\n",
    "\n",
    "    \n",
    "for i in range(len(X)):\n",
    "    ax.scatter(X[i][0],X[i][1] , marker='*', c='k')\n",
    "\n",
    "    \n",
    "plt.xlabel('Dimension 1')\n",
    "plt.ylabel('Dimension 2')\n",
    "plt.title('Fuzzy Min Max Clustering')\n",
    "plt.xlim([0,1])\n",
    "plt.ylim([0,1])\n",
    "plt.legend(('cluster 1','cluster 2'))\n",
    "plt.show()"
   ]
  },
  {
   "cell_type": "code",
   "execution_count": null,
   "metadata": {
    "collapsed": true
   },
   "outputs": [],
   "source": []
  }
 ],
 "metadata": {
  "kernelspec": {
   "display_name": "Python 3",
   "language": "python",
   "name": "python3"
  },
  "language_info": {
   "codemirror_mode": {
    "name": "ipython",
    "version": 3
   },
   "file_extension": ".py",
   "mimetype": "text/x-python",
   "name": "python",
   "nbconvert_exporter": "python",
   "pygments_lexer": "ipython3",
   "version": "3.6.3"
  }
 },
 "nbformat": 4,
 "nbformat_minor": 2
}
