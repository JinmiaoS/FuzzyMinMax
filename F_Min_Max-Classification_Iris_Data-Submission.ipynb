{
 "cells": [
  {
   "cell_type": "markdown",
   "metadata": {},
   "source": [
    "### Batch : A-01 \n",
    "#### Aim : Implement Fuzzy Min Max Neural Network Classifier "
   ]
  },
  {
   "cell_type": "code",
   "execution_count": 41,
   "metadata": {
    "collapsed": true
   },
   "outputs": [],
   "source": [
    "import numpy as np\n",
    "import pandas as pd"
   ]
  },
  {
   "cell_type": "code",
   "execution_count": 42,
   "metadata": {
    "collapsed": true
   },
   "outputs": [],
   "source": [
    "class FuzzyMinMaxNN:\n",
    "    \n",
    "    def __init__(self,sensitivity,theta=0.4):\n",
    "        self.gamma = sensitivity\n",
    "        self.hyperboxes = {}\n",
    "        self.clasess = None\n",
    "        self.V = []\n",
    "        self.W = []\n",
    "        self.U = []\n",
    "        self.hyperbox_class = []\n",
    "        self.theta = theta\n",
    "        \n",
    "        \n",
    "    def fuzzy_membership(self,x,v,w,gamma=1):\n",
    "        \"\"\"\n",
    "            returns the fuzzy menbership function :\n",
    "            b_i(xh,v,w) = 1/2n*(------)\n",
    "        \"\"\"\n",
    "        return((sum([max(0,1-max(0,gamma*min(1,x[i]-w[i]))) for i in range(len(x))]) + \\\n",
    "          sum([max(0,1-max(0,gamma*min(1,v[i]-x[i]))) for i in range(len(x))]))/(2*len(x))\n",
    "         )\n",
    "    \n",
    "    def get_hyperbox(self,x,d):\n",
    "        \n",
    "        tmp = [0 for i in range(self.clasess)]\n",
    "        tmp[d[0]-1] = 1\n",
    "        \n",
    "        \"\"\"\n",
    "            If no hyperbox present initially so create new\n",
    "        \"\"\"\n",
    "        if len(self.V)==0 and len(self.W)==0 :\n",
    "            self.V.append(x)\n",
    "            self.W.append(x)\n",
    "            self.hyperbox_class.append(d)\n",
    "            self.U.append(tmp)\n",
    "            expand = False\n",
    "            return len(self.V)-1 , expand \n",
    "                \n",
    "        \"\"\"\n",
    "            returns the most sutaible hyperbox for input pattern x\n",
    "            otherwise None\n",
    "        \"\"\"\n",
    "        mylist = []\n",
    "        for i in range(len(self.V)):\n",
    "            \n",
    "            if self.hyperbox_class[i]==d:\n",
    "                mylist.append((self.fuzzy_membership(x,self.V[i],self.W[i])))\n",
    "            else:\n",
    "                mylist.append(-1)\n",
    "                \n",
    "        if len(mylist)>0:\n",
    "            for box in sorted(mylist)[::-1]:\n",
    "                i = mylist.index(box)\n",
    "\n",
    "                n_theta = sum([(max(self.W[i][_],x[_]) - min(self.V[i][_],x[_])) \\\n",
    "                               for _ in range(len(x))])\n",
    "                \n",
    "                if len(x)*self.theta >= n_theta :\n",
    "                    expand = True\n",
    "                    return i,expand\n",
    "            '''\n",
    "                No hyperbox follow expansion criteria so create new\n",
    "            '''\n",
    "            self.V.append(x)\n",
    "            self.W.append(x)\n",
    "            self.hyperbox_class.append(d)\n",
    "            self.U.append(tmp)\n",
    "            expand = False\n",
    "            return len(self.V)-1 , expand\n",
    "            \n",
    "        else:\n",
    "            \"\"\"\n",
    "                If no hyperbox present for pattern x of class d so create new \n",
    "            \"\"\"\n",
    "            self.V.append(x)\n",
    "            self.W.append(x)\n",
    "            self.hyperbox_class.append(d)\n",
    "            self.U.append(tmp)\n",
    "            expand = False\n",
    "            return len(self.V)-1,expand\n",
    "    \n",
    "    def expand(self,x,key):\n",
    "        self.V[key] = [min(self.V[key][i],x[i]) for i in range(len(x))]\n",
    "        self.W[key] = [max(self.W[key][i],x[i]) for i in range(len(x))]\n",
    "        \n",
    "    \n",
    "    def overlap_Test(self):\n",
    "        del_old = 1\n",
    "        del_new = 1\n",
    "        box_1,box_2,delta = -1,-1,-1\n",
    "        for j in range(len(self.V)):\n",
    "            for k in range(j+1,len(self.V)):\n",
    "                \n",
    "                for i in range(len(self.V[j])):\n",
    "                    \n",
    "                    \"\"\"\n",
    "                        Test Four cases given by Patrick Simpson\n",
    "                    \"\"\"\n",
    "                    \n",
    "                    if (self.V[j][i] < self.V[k][i] < self.W[j][i] < self.W[k][i]) :\n",
    "                           del_new = min(del_old,self.V[j][i]-self.V[k][i])\n",
    "                    elif (self.V[k][i] < self.V[j][i] < self.W[k][i] < self.W[j][i]) :\n",
    "                           del_new = min(del_old,self.W[k][i]-self.V[j][i])\n",
    "                    elif (self.V[j][i] < self.V[k][i] < self.W[k][i] < self.W[j][i]) :\n",
    "                           del_new = min(del_old,min(self.W[k][i]-self.V[j][i],\\\n",
    "                                                     self.W[j][i]-self.V[k][i]))\n",
    "                    elif (self.V[k][i] < self.V[j][i] < self.W[j][i] < self.W[k][i]) :\n",
    "                           del_new = min(del_old,min(self.W[j][i]-self.V[k][i],\\\n",
    "                                                     self.W[k][i]-self.V[j][i]))\n",
    "                       \n",
    "                    \"\"\"\n",
    "                        Check dimension for which overlap is minimum\n",
    "                    \"\"\"\n",
    "                    #print(del_old , del_new , del_old-del_new , i)\n",
    "                    if del_old - del_new > 0.0 :\n",
    "                        delta = i\n",
    "                        box_1,box_2 = j,k\n",
    "                        del_old = del_new\n",
    "                        del_new = 1\n",
    "                    else:\n",
    "                        pass\n",
    "                       \n",
    "        return delta , box_1, box_2 \n",
    "                       \n",
    "    def contraction(self,delta,box_1,box_2):\n",
    "        if (self.V[box_1][delta] < self.V[box_2][delta] < self.W[box_1][delta] < \\\n",
    "            self.W[box_2][delta]) :\n",
    "            self.W[box_1][delta] = (self.W[box_1][delta]+self.V[box_2][delta])/2\n",
    "            self.V[box_2][delta] = (self.W[box_1][delta]+self.V[box_2][delta])/2 \n",
    "            \n",
    "        elif (self.V[box_2][delta] < self.V[box_1][delta] < self.W[box_2][delta] < \\\n",
    "              self.W[box_1][delta]) :\n",
    "            self.W[box_2][delta] = (self.W[box_2][delta]+self.V[box_1][delta])/2\n",
    "            self.V[box_1][delta] = (self.W[box_2][delta]+self.V[box_1][delta])/2\n",
    "            \n",
    "        elif (self.V[box_1][delta] < self.V[box_2][delta] < self.W[box_2][delta] < \\\n",
    "              self.W[box_1][delta]) :\n",
    "            if (self.W[box_2][delta]-self.V[box_1][delta])< \\\n",
    "            (self.W[box_1][delta]-self.V[box_2][delta]):\n",
    "                self.V[box_1][delta] = self.W[box_2][delta]\n",
    "            else:\n",
    "                self.W[box_1][delta] = self.V[box_2][delta]\n",
    "            \n",
    "        elif (self.V[box_2][delta] < self.V[box_1][delta] < self.W[box_1][delta] < \\\n",
    "              self.W[box_2][delta]) :\n",
    "            if (self.W[box_2][delta]-self.V[box_1][delta])<\\\n",
    "            (self.W[box_1][delta]-self.V[box_2][delta]):\n",
    "                self.W[box_2][delta] = self.V[box_1][delta]\n",
    "            else:\n",
    "                self.V[box_2][delta] = self.W[box_1][delta]\n",
    "    \n",
    "    def predict(self,x):\n",
    "        mylist = []\n",
    "        for i in range(len(self.V)):\n",
    "            mylist.append([self.fuzzy_membership(x,self.V[i],self.W[i])])\n",
    "            \n",
    "        result = np.multiply(mylist,self.U)\n",
    "        for i in range(self.clasess):\n",
    "            print('pattern {} belongs to class {} with fuzzy membership value : {}'\\\n",
    "                  .format(x,i+1,max(result[:,i])))\n",
    "        \n",
    "            \n",
    "    def train(self,X,d_,epochs):\n",
    "        self.clasess = len(np.unique(np.array(d_)))\n",
    "        for _ in range(epochs):\n",
    "            print('epoch : {}'.format(_+1))\n",
    "            print('='*50)\n",
    "\n",
    "            for x,d in zip(X,d_):\n",
    "                '''Get most sutaible hyperbox!!'''\n",
    "                i , expand = self.get_hyperbox(x,d)\n",
    "\n",
    "                print('input pattern : ',x , d)\n",
    "                print('Hyperbox : {} , {} '.format(self.V[i],self.W[i])  )\n",
    "\n",
    "                if expand:\n",
    "                    self.expand(x,i)\n",
    "                    print(\"Expanded Hyperbox : \",self.V[i] , self.W[i])\n",
    "                    delta,j,k = self.overlap_Test()\n",
    "                    if delta!=-1:\n",
    "                        self.contraction(delta,j,k)\n",
    "                        print(\"Contracted  Hyperbox 1 : \",self.V[j] , self.W[j])\n",
    "                        print(\"Contracted Hyperbox 2 : \",self.V[k] , self.W[k])\n",
    "\n",
    "                print('='*50)\n",
    "            \n",
    "        print('final hyperbox : ')\n",
    "        print('V : ',self.V)\n",
    "        print('W : ',self.W)\n",
    "        \n"
   ]
  },
  {
   "cell_type": "code",
   "execution_count": 43,
   "metadata": {
    "collapsed": true
   },
   "outputs": [],
   "source": [
    "fuzzy = FuzzyMinMaxNN(1,theta=0.3)    "
   ]
  },
  {
   "cell_type": "markdown",
   "metadata": {},
   "source": [
    "## Dataset"
   ]
  },
  {
   "cell_type": "code",
   "execution_count": 44,
   "metadata": {
    "collapsed": true
   },
   "outputs": [],
   "source": [
    "X = [[0.2,0.2],[0.6,0.6],[0.5,0.5],[0.4,0.3],[0.8,0.1],[0.6,0.2],[0.7,0.6],[0.1,0.7],[0.3,0.9],[0.7,0.7],[0.9,0.9]]\n",
    "d = [[1],[2],[1],[2],[1],[1],[2],[2],[2],[1],[1]]"
   ]
  },
  {
   "cell_type": "code",
   "execution_count": 45,
   "metadata": {
    "scrolled": false
   },
   "outputs": [
    {
     "name": "stdout",
     "output_type": "stream",
     "text": [
      "epoch : 1\n",
      "==================================================\n",
      "input pattern :  [0.2, 0.2] [1]\n",
      "Hyperbox : [0.2, 0.2] , [0.2, 0.2] \n",
      "==================================================\n",
      "input pattern :  [0.6, 0.6] [2]\n",
      "Hyperbox : [0.6, 0.6] , [0.6, 0.6] \n",
      "==================================================\n",
      "input pattern :  [0.5, 0.5] [1]\n",
      "Hyperbox : [0.2, 0.2] , [0.2, 0.2] \n",
      "Expanded Hyperbox :  [0.2, 0.2] [0.5, 0.5]\n",
      "==================================================\n",
      "input pattern :  [0.4, 0.3] [2]\n",
      "Hyperbox : [0.6, 0.6] , [0.6, 0.6] \n",
      "Expanded Hyperbox :  [0.4, 0.3] [0.6, 0.6]\n",
      "Contracted  Hyperbox 1 :  [0.2, 0.2] [0.45, 0.5]\n",
      "Contracted Hyperbox 2 :  [0.42500000000000004, 0.3] [0.6, 0.6]\n",
      "==================================================\n",
      "input pattern :  [0.8, 0.1] [1]\n",
      "Hyperbox : [0.8, 0.1] , [0.8, 0.1] \n",
      "==================================================\n",
      "input pattern :  [0.6, 0.2] [1]\n",
      "Hyperbox : [0.8, 0.1] , [0.8, 0.1] \n",
      "Expanded Hyperbox :  [0.6, 0.1] [0.8, 0.2]\n",
      "Contracted  Hyperbox 1 :  [0.2, 0.2] [0.4375, 0.5]\n",
      "Contracted Hyperbox 2 :  [0.43125, 0.3] [0.6, 0.6]\n",
      "==================================================\n",
      "input pattern :  [0.7, 0.6] [2]\n",
      "Hyperbox : [0.43125, 0.3] , [0.6, 0.6] \n",
      "Expanded Hyperbox :  [0.43125, 0.3] [0.7, 0.6]\n",
      "Contracted  Hyperbox 1 :  [0.2, 0.2] [0.434375, 0.5]\n",
      "Contracted Hyperbox 2 :  [0.43281250000000004, 0.3] [0.7, 0.6]\n",
      "==================================================\n",
      "input pattern :  [0.1, 0.7] [2]\n",
      "Hyperbox : [0.1, 0.7] , [0.1, 0.7] \n",
      "==================================================\n",
      "input pattern :  [0.3, 0.9] [2]\n",
      "Hyperbox : [0.1, 0.7] , [0.1, 0.7] \n",
      "Expanded Hyperbox :  [0.1, 0.7] [0.3, 0.9]\n",
      "Contracted  Hyperbox 1 :  [0.2, 0.2] [0.43359375, 0.5]\n",
      "Contracted Hyperbox 2 :  [0.433203125, 0.3] [0.7, 0.6]\n",
      "==================================================\n",
      "input pattern :  [0.7, 0.7] [1]\n",
      "Hyperbox : [0.7, 0.7] , [0.7, 0.7] \n",
      "==================================================\n",
      "input pattern :  [0.9, 0.9] [1]\n",
      "Hyperbox : [0.7, 0.7] , [0.7, 0.7] \n",
      "Expanded Hyperbox :  [0.7, 0.7] [0.9, 0.9]\n",
      "Contracted  Hyperbox 1 :  [0.2, 0.2] [0.4333984375, 0.5]\n",
      "Contracted Hyperbox 2 :  [0.43330078125000004, 0.3] [0.7, 0.6]\n",
      "==================================================\n",
      "final hyperbox : \n",
      "V :  [[0.2, 0.2], [0.43330078125000004, 0.3], [0.6, 0.1], [0.1, 0.7], [0.7, 0.7]]\n",
      "W :  [[0.4333984375, 0.5], [0.7, 0.6], [0.8, 0.2], [0.3, 0.9], [0.9, 0.9]]\n"
     ]
    }
   ],
   "source": [
    "fuzzy.train(X,d,1)"
   ]
  },
  {
   "cell_type": "markdown",
   "metadata": {},
   "source": [
    "### Testing of pattern "
   ]
  },
  {
   "cell_type": "code",
   "execution_count": 46,
   "metadata": {},
   "outputs": [
    {
     "name": "stdout",
     "output_type": "stream",
     "text": [
      "pattern [0.2, 0.2] belongs to class 1 with fuzzy membership value : 1.0\n",
      "pattern [0.2, 0.2] belongs to class 2 with fuzzy membership value : 0.9166748046875\n",
      "================================================================================\n",
      "pattern [0.6, 0.6] belongs to class 1 with fuzzy membership value : 0.95\n",
      "pattern [0.6, 0.6] belongs to class 2 with fuzzy membership value : 1.0\n",
      "================================================================================\n",
      "pattern [0.5, 0.5] belongs to class 1 with fuzzy membership value : 0.983349609375\n",
      "pattern [0.5, 0.5] belongs to class 2 with fuzzy membership value : 1.0\n",
      "================================================================================\n",
      "pattern [0.4, 0.3] belongs to class 1 with fuzzy membership value : 1.0\n",
      "pattern [0.4, 0.3] belongs to class 2 with fuzzy membership value : 0.9916748046875\n",
      "================================================================================\n",
      "pattern [0.8, 0.1] belongs to class 1 with fuzzy membership value : 1.0\n",
      "pattern [0.8, 0.1] belongs to class 2 with fuzzy membership value : 0.925\n",
      "================================================================================\n",
      "pattern [0.6, 0.2] belongs to class 1 with fuzzy membership value : 1.0\n",
      "pattern [0.6, 0.2] belongs to class 2 with fuzzy membership value : 0.975\n",
      "================================================================================\n",
      "pattern [0.7, 0.6] belongs to class 1 with fuzzy membership value : 0.975\n",
      "pattern [0.7, 0.6] belongs to class 2 with fuzzy membership value : 1.0\n",
      "================================================================================\n",
      "pattern [0.1, 0.7] belongs to class 1 with fuzzy membership value : 0.925\n",
      "pattern [0.1, 0.7] belongs to class 2 with fuzzy membership value : 1.0\n",
      "================================================================================\n",
      "pattern [0.3, 0.9] belongs to class 1 with fuzzy membership value : 0.9\n",
      "pattern [0.3, 0.9] belongs to class 2 with fuzzy membership value : 1.0\n",
      "================================================================================\n",
      "pattern [0.7, 0.7] belongs to class 1 with fuzzy membership value : 1.0\n",
      "pattern [0.7, 0.7] belongs to class 2 with fuzzy membership value : 0.975\n",
      "================================================================================\n",
      "pattern [0.9, 0.9] belongs to class 1 with fuzzy membership value : 1.0\n",
      "pattern [0.9, 0.9] belongs to class 2 with fuzzy membership value : 0.875\n",
      "================================================================================\n"
     ]
    }
   ],
   "source": [
    "for x in X:\n",
    "    fuzzy.predict(x)\n",
    "    print('='*80)"
   ]
  },
  {
   "cell_type": "markdown",
   "metadata": {},
   "source": [
    "### Visualization of HyperBoxes"
   ]
  },
  {
   "cell_type": "code",
   "execution_count": 47,
   "metadata": {
    "scrolled": true
   },
   "outputs": [
    {
     "data": {
      "image/png": "[encoded data removed]",
      "text/plain": [
       "<matplotlib.figure.Figure at 0x115d2eb00>"
      ]
     },
     "metadata": {},
     "output_type": "display_data"
    }
   ],
   "source": [
    "import matplotlib.pyplot as plt\n",
    "import matplotlib.patches as patches\n",
    "\n",
    "def draw_box(ax,a,b,color):\n",
    "    width = abs(a[0] - b[0])\n",
    "    height = abs(a[1] - b[1])\n",
    "    ax.add_patch(patches.Rectangle(a, width, height, fill=False,edgecolor=color))\n",
    "\n",
    "\"\"\"\n",
    "    plot dataset\n",
    "\"\"\"\n",
    "fig1 = plt.figure()\n",
    "ax = fig1.add_subplot(111, aspect='equal',alpha=0.7)\n",
    "\n",
    "        \n",
    "\"\"\"\n",
    "    plot Hyperboxes\n",
    "\"\"\"\n",
    "for i in range(len(fuzzy.V)):\n",
    "    if fuzzy.hyperbox_class[i]==[1]:\n",
    "        draw_box(ax,fuzzy.V[i],fuzzy.W[i],color='g')\n",
    "    else:\n",
    "        draw_box(ax,fuzzy.V[i],fuzzy.W[i],color='r')\n",
    "    \n",
    "for i in range(len(X)):\n",
    "    if d[i] == [1]:\n",
    "        ax.scatter(X[i][0],X[i][1] , marker='o', c='g')\n",
    "    else:\n",
    "        ax.scatter(X[i][0],X[i][1] , marker='*', c='r')\n",
    "    \n",
    "plt.xlabel('Dimension 1')\n",
    "plt.ylabel('Dimension 2')\n",
    "plt.title('Hyperboxes created during training')\n",
    "plt.xlim([0,1])\n",
    "plt.ylim([0,1])\n",
    "#plt.legend(('class 1','class 2'))\n",
    "plt.show()"
   ]
  },
  {
   "cell_type": "markdown",
   "metadata": {
    "collapsed": true
   },
   "source": [
    "## Iris Dataset Classification using Fuzzy Min Max NN"
   ]
  },
  {
   "cell_type": "code",
   "execution_count": 48,
   "metadata": {},
   "outputs": [],
   "source": [
    "data = pd.read_csv('https://archive.ics.uci.edu/ml/machine-learning-databases/iris/iris.data',names=['PW','PL','SW','SL','Class'])"
   ]
  },
  {
   "cell_type": "code",
   "execution_count": 49,
   "metadata": {
    "collapsed": true
   },
   "outputs": [],
   "source": [
    "data['Class'] = data['Class'].replace(['Iris-setosa', 'Iris-versicolor','Iris-virginica'],\\\n",
    "                            [1,2,3])"
   ]
  },
  {
   "cell_type": "code",
   "execution_count": 50,
   "metadata": {
    "collapsed": true
   },
   "outputs": [],
   "source": [
    "np.random.shuffle(data.values)"
   ]
  },
  {
   "cell_type": "code",
   "execution_count": 51,
   "metadata": {
    "collapsed": true
   },
   "outputs": [],
   "source": [
    "data = data.sample(frac=1) #shuffle dataframe sample"
   ]
  },
  {
   "cell_type": "code",
   "execution_count": 52,
   "metadata": {},
   "outputs": [
    {
     "data": {
      "text/html": [
       "<div>\n",
       "<style>\n",
       "    .dataframe thead tr:only-child th {\n",
       "        text-align: right;\n",
       "    }\n",
       "\n",
       "    .dataframe thead th {\n",
       "        text-align: left;\n",
       "    }\n",
       "\n",
       "    .dataframe tbody tr th {\n",
       "        vertical-align: top;\n",
       "    }\n",
       "</style>\n",
       "<table border=\"1\" class=\"dataframe\">\n",
       "  <thead>\n",
       "    <tr style=\"text-align: right;\">\n",
       "      <th></th>\n",
       "      <th>PW</th>\n",
       "      <th>PL</th>\n",
       "      <th>SW</th>\n",
       "      <th>SL</th>\n",
       "      <th>Class</th>\n",
       "    </tr>\n",
       "  </thead>\n",
       "  <tbody>\n",
       "    <tr>\n",
       "      <th>141</th>\n",
       "      <td>6.9</td>\n",
       "      <td>3.1</td>\n",
       "      <td>5.1</td>\n",
       "      <td>2.3</td>\n",
       "      <td>3</td>\n",
       "    </tr>\n",
       "    <tr>\n",
       "      <th>57</th>\n",
       "      <td>4.9</td>\n",
       "      <td>2.4</td>\n",
       "      <td>3.3</td>\n",
       "      <td>1.0</td>\n",
       "      <td>2</td>\n",
       "    </tr>\n",
       "    <tr>\n",
       "      <th>88</th>\n",
       "      <td>5.6</td>\n",
       "      <td>3.0</td>\n",
       "      <td>4.1</td>\n",
       "      <td>1.3</td>\n",
       "      <td>2</td>\n",
       "    </tr>\n",
       "    <tr>\n",
       "      <th>101</th>\n",
       "      <td>5.8</td>\n",
       "      <td>2.7</td>\n",
       "      <td>5.1</td>\n",
       "      <td>1.9</td>\n",
       "      <td>3</td>\n",
       "    </tr>\n",
       "    <tr>\n",
       "      <th>64</th>\n",
       "      <td>5.6</td>\n",
       "      <td>2.9</td>\n",
       "      <td>3.6</td>\n",
       "      <td>1.3</td>\n",
       "      <td>2</td>\n",
       "    </tr>\n",
       "  </tbody>\n",
       "</table>\n",
       "</div>"
      ],
      "text/plain": [
       "      PW   PL   SW   SL  Class\n",
       "141  6.9  3.1  5.1  2.3      3\n",
       "57   4.9  2.4  3.3  1.0      2\n",
       "88   5.6  3.0  4.1  1.3      2\n",
       "101  5.8  2.7  5.1  1.9      3\n",
       "64   5.6  2.9  3.6  1.3      2"
      ]
     },
     "execution_count": 52,
     "metadata": {},
     "output_type": "execute_result"
    }
   ],
   "source": [
    "data.head()"
   ]
  },
  {
   "cell_type": "code",
   "execution_count": 53,
   "metadata": {
    "collapsed": true
   },
   "outputs": [],
   "source": [
    "df = data[['PW','PL','SW','SL']]"
   ]
  },
  {
   "cell_type": "code",
   "execution_count": 54,
   "metadata": {},
   "outputs": [
    {
     "data": {
      "text/html": [
       "<div>\n",
       "<style>\n",
       "    .dataframe thead tr:only-child th {\n",
       "        text-align: right;\n",
       "    }\n",
       "\n",
       "    .dataframe thead th {\n",
       "        text-align: left;\n",
       "    }\n",
       "\n",
       "    .dataframe tbody tr th {\n",
       "        vertical-align: top;\n",
       "    }\n",
       "</style>\n",
       "<table border=\"1\" class=\"dataframe\">\n",
       "  <thead>\n",
       "    <tr style=\"text-align: right;\">\n",
       "      <th></th>\n",
       "      <th>PW</th>\n",
       "      <th>PL</th>\n",
       "      <th>SW</th>\n",
       "      <th>SL</th>\n",
       "    </tr>\n",
       "  </thead>\n",
       "  <tbody>\n",
       "    <tr>\n",
       "      <th>141</th>\n",
       "      <td>6.9</td>\n",
       "      <td>3.1</td>\n",
       "      <td>5.1</td>\n",
       "      <td>2.3</td>\n",
       "    </tr>\n",
       "    <tr>\n",
       "      <th>57</th>\n",
       "      <td>4.9</td>\n",
       "      <td>2.4</td>\n",
       "      <td>3.3</td>\n",
       "      <td>1.0</td>\n",
       "    </tr>\n",
       "    <tr>\n",
       "      <th>88</th>\n",
       "      <td>5.6</td>\n",
       "      <td>3.0</td>\n",
       "      <td>4.1</td>\n",
       "      <td>1.3</td>\n",
       "    </tr>\n",
       "    <tr>\n",
       "      <th>101</th>\n",
       "      <td>5.8</td>\n",
       "      <td>2.7</td>\n",
       "      <td>5.1</td>\n",
       "      <td>1.9</td>\n",
       "    </tr>\n",
       "    <tr>\n",
       "      <th>64</th>\n",
       "      <td>5.6</td>\n",
       "      <td>2.9</td>\n",
       "      <td>3.6</td>\n",
       "      <td>1.3</td>\n",
       "    </tr>\n",
       "  </tbody>\n",
       "</table>\n",
       "</div>"
      ],
      "text/plain": [
       "      PW   PL   SW   SL\n",
       "141  6.9  3.1  5.1  2.3\n",
       "57   4.9  2.4  3.3  1.0\n",
       "88   5.6  3.0  4.1  1.3\n",
       "101  5.8  2.7  5.1  1.9\n",
       "64   5.6  2.9  3.6  1.3"
      ]
     },
     "execution_count": 54,
     "metadata": {},
     "output_type": "execute_result"
    }
   ],
   "source": [
    "df.head()"
   ]
  },
  {
   "cell_type": "code",
   "execution_count": 55,
   "metadata": {
    "collapsed": true
   },
   "outputs": [],
   "source": [
    "normalized_df=(df-df.min())/(df.max()-df.min())"
   ]
  },
  {
   "cell_type": "code",
   "execution_count": 56,
   "metadata": {},
   "outputs": [
    {
     "data": {
      "text/plain": [
       "array([3, 2, 2, 3, 2, 1, 3, 3, 2, 1, 2, 3, 3, 3, 3, 2, 2, 3, 3, 1, 1, 2, 2,\n",
       "       1, 3, 3, 3, 3, 3, 1, 2, 3, 3, 2, 2, 3, 2, 2, 1, 1, 1, 1, 1, 2, 2, 1,\n",
       "       2, 3, 1, 3, 2, 1, 2, 3, 2, 3, 2, 1, 1, 3, 3, 2, 3, 1, 1, 1, 1, 3, 1,\n",
       "       1, 2, 2, 2, 1, 2, 1, 1, 1, 1, 2, 1, 2, 2, 1, 1, 2, 3, 1, 1, 2, 2, 3,\n",
       "       1, 1, 2, 3, 3, 2, 2, 3, 2, 3, 2, 3, 2, 1, 1, 1, 3, 2, 1, 3, 3, 2, 3,\n",
       "       2, 3, 3, 3, 1, 3, 1, 1, 1, 1, 3, 1, 1, 1, 2, 1, 2, 3, 2, 1, 2, 3, 3,\n",
       "       2, 1, 3, 1, 3, 2, 2, 3, 2, 3, 3, 2])"
      ]
     },
     "execution_count": 56,
     "metadata": {},
     "output_type": "execute_result"
    }
   ],
   "source": [
    "data['Class'].values"
   ]
  },
  {
   "cell_type": "code",
   "execution_count": 57,
   "metadata": {
    "collapsed": true
   },
   "outputs": [],
   "source": [
    "#choose 50% training and 50% testing sample\n",
    "train,test = normalized_df.values[:75,:4],normalized_df.values[75:,:4] \n",
    "train_labels,test_labels = data['Class'].values[:75],data['Class'].values[75:]\n",
    "train_labels,test_labels = train_labels.reshape((-1,1)),test_labels.reshape((-1,1))"
   ]
  },
  {
   "cell_type": "code",
   "execution_count": 58,
   "metadata": {},
   "outputs": [
    {
     "data": {
      "text/plain": [
       "((75, 4), (75, 4))"
      ]
     },
     "execution_count": 58,
     "metadata": {},
     "output_type": "execute_result"
    }
   ],
   "source": [
    "train.shape,test.shape"
   ]
  },
  {
   "cell_type": "code",
   "execution_count": 59,
   "metadata": {},
   "outputs": [
    {
     "data": {
      "text/plain": [
       "((75, 1), (75, 1))"
      ]
     },
     "execution_count": 59,
     "metadata": {},
     "output_type": "execute_result"
    }
   ],
   "source": [
    "train_labels.shape,test_labels.shape"
   ]
  },
  {
   "cell_type": "code",
   "execution_count": 60,
   "metadata": {
    "collapsed": true
   },
   "outputs": [],
   "source": [
    "train,test = train.tolist(),test.tolist()\n",
    "train_labels,test_labels = train_labels.tolist(),test_labels.tolist()"
   ]
  },
  {
   "cell_type": "code",
   "execution_count": 70,
   "metadata": {},
   "outputs": [],
   "source": [
    "fuzzy = FuzzyMinMaxNN(1,theta=0.05)"
   ]
  },
  {
   "cell_type": "code",
   "execution_count": 71,
   "metadata": {},
   "outputs": [
    {
     "name": "stdout",
     "output_type": "stream",
     "text": [
      "epoch : 1\n",
      "==================================================\n",
      "input pattern :  [0.7222222222222222, 0.4583333333333333, 0.6949152542372881, 0.9166666666666666] [3]\n",
      "Hyperbox : [0.7222222222222222, 0.4583333333333333, 0.6949152542372881, 0.9166666666666666] , [0.7222222222222222, 0.4583333333333333, 0.6949152542372881, 0.9166666666666666] \n",
      "==================================================\n",
      "input pattern :  [0.1666666666666668, 0.1666666666666666, 0.38983050847457623, 0.375] [2]\n",
      "Hyperbox : [0.1666666666666668, 0.1666666666666666, 0.38983050847457623, 0.375] , [0.1666666666666668, 0.1666666666666666, 0.38983050847457623, 0.375] \n",
      "==================================================\n",
      "input pattern :  [0.361111111111111, 0.41666666666666663, 0.5254237288135593, 0.5] [2]\n",
      "Hyperbox : [0.361111111111111, 0.41666666666666663, 0.5254237288135593, 0.5] , [0.361111111111111, 0.41666666666666663, 0.5254237288135593, 0.5] \n",
      "==================================================\n",
      "input pattern :  [0.41666666666666663, 0.2916666666666667, 0.6949152542372881, 0.75] [3]\n",
      "Hyperbox : [0.41666666666666663, 0.2916666666666667, 0.6949152542372881, 0.75] , [0.41666666666666663, 0.2916666666666667, 0.6949152542372881, 0.75] \n",
      "==================================================\n",
      "input pattern :  [0.361111111111111, 0.3749999999999999, 0.4406779661016949, 0.5] [2]\n",
      "Hyperbox : [0.361111111111111, 0.41666666666666663, 0.5254237288135593, 0.5] , [0.361111111111111, 0.41666666666666663, 0.5254237288135593, 0.5] \n",
      "Expanded Hyperbox :  [0.361111111111111, 0.3749999999999999, 0.4406779661016949, 0.5] [0.361111111111111, 0.41666666666666663, 0.5254237288135593, 0.5]\n",
      "==================================================\n",
      "input pattern :  [0.38888888888888895, 0.7499999999999998, 0.11864406779661016, 0.08333333333333333] [1]\n",
      "Hyperbox : [0.38888888888888895, 0.7499999999999998, 0.11864406779661016, 0.08333333333333333] , [0.38888888888888895, 0.7499999999999998, 0.11864406779661016, 0.08333333333333333] \n",
      "==================================================\n",
      "input pattern :  [0.38888888888888895, 0.20833333333333331, 0.6779661016949152, 0.7916666666666666] [3]\n",
      "Hyperbox : [0.41666666666666663, 0.2916666666666667, 0.6949152542372881, 0.75] , [0.41666666666666663, 0.2916666666666667, 0.6949152542372881, 0.75] \n",
      "Expanded Hyperbox :  [0.38888888888888895, 0.20833333333333331, 0.6779661016949152, 0.75] [0.41666666666666663, 0.2916666666666667, 0.6949152542372881, 0.7916666666666666]\n",
      "==================================================\n",
      "input pattern :  [0.5555555555555555, 0.3749999999999999, 0.7796610169491525, 0.7083333333333334] [3]\n",
      "Hyperbox : [0.5555555555555555, 0.3749999999999999, 0.7796610169491525, 0.7083333333333334] , [0.5555555555555555, 0.3749999999999999, 0.7796610169491525, 0.7083333333333334] \n",
      "==================================================\n",
      "input pattern :  [0.4999999999999999, 0.3749999999999999, 0.6271186440677966, 0.5416666666666666] [2]\n",
      "Hyperbox : [0.4999999999999999, 0.3749999999999999, 0.6271186440677966, 0.5416666666666666] , [0.4999999999999999, 0.3749999999999999, 0.6271186440677966, 0.5416666666666666] \n",
      "==================================================\n",
      "input pattern :  [0.1666666666666668, 0.41666666666666663, 0.06779661016949151, 0.04166666666666667] [1]\n",
      "Hyperbox : [0.1666666666666668, 0.41666666666666663, 0.06779661016949151, 0.04166666666666667] , [0.1666666666666668, 0.41666666666666663, 0.06779661016949151, 0.04166666666666667] \n",
      "==================================================\n",
      "input pattern :  [0.3333333333333333, 0.20833333333333331, 0.5084745762711864, 0.5] [2]\n",
      "Hyperbox : [0.3333333333333333, 0.20833333333333331, 0.5084745762711864, 0.5] , [0.3333333333333333, 0.20833333333333331, 0.5084745762711864, 0.5] \n",
      "==================================================\n",
      "input pattern :  [0.41666666666666663, 0.3333333333333332, 0.6949152542372881, 0.9583333333333333] [3]\n",
      "Hyperbox : [0.41666666666666663, 0.3333333333333332, 0.6949152542372881, 0.9583333333333333] , [0.41666666666666663, 0.3333333333333332, 0.6949152542372881, 0.9583333333333333] \n",
      "==================================================\n",
      "input pattern :  [0.44444444444444453, 0.41666666666666663, 0.6949152542372881, 0.7083333333333334] [3]\n",
      "Hyperbox : [0.44444444444444453, 0.41666666666666663, 0.6949152542372881, 0.7083333333333334] , [0.44444444444444453, 0.41666666666666663, 0.6949152542372881, 0.7083333333333334] \n",
      "==================================================\n",
      "input pattern :  [0.4999999999999999, 0.41666666666666663, 0.6610169491525424, 0.7083333333333334] [3]\n",
      "Hyperbox : [0.44444444444444453, 0.41666666666666663, 0.6949152542372881, 0.7083333333333334] , [0.44444444444444453, 0.41666666666666663, 0.6949152542372881, 0.7083333333333334] \n",
      "Expanded Hyperbox :  [0.44444444444444453, 0.41666666666666663, 0.6610169491525424, 0.7083333333333334] [0.4999999999999999, 0.41666666666666663, 0.6949152542372881, 0.7083333333333334]\n",
      "==================================================\n",
      "input pattern :  [0.8055555555555556, 0.41666666666666663, 0.8135593220338982, 0.625] [3]\n",
      "Hyperbox : [0.8055555555555556, 0.41666666666666663, 0.8135593220338982, 0.625] , [0.8055555555555556, 0.41666666666666663, 0.8135593220338982, 0.625] \n",
      "==================================================\n",
      "input pattern :  [0.7222222222222222, 0.4583333333333333, 0.6610169491525424, 0.5833333333333334] [2]\n",
      "Hyperbox : [0.7222222222222222, 0.4583333333333333, 0.6610169491525424, 0.5833333333333334] , [0.7222222222222222, 0.4583333333333333, 0.6610169491525424, 0.5833333333333334] \n",
      "==================================================\n",
      "input pattern :  [0.44444444444444453, 0.5, 0.6440677966101694, 0.7083333333333334] [2]\n",
      "Hyperbox : [0.44444444444444453, 0.5, 0.6440677966101694, 0.7083333333333334] , [0.44444444444444453, 0.5, 0.6440677966101694, 0.7083333333333334] \n",
      "==================================================\n",
      "input pattern :  [0.6944444444444443, 0.5, 0.8305084745762712, 0.9166666666666666] [3]\n",
      "Hyperbox : [0.6944444444444443, 0.5, 0.8305084745762712, 0.9166666666666666] , [0.6944444444444443, 0.5, 0.8305084745762712, 0.9166666666666666] \n",
      "==================================================\n",
      "input pattern :  [0.9166666666666665, 0.41666666666666663, 0.9491525423728813, 0.8333333333333334] [3]\n",
      "Hyperbox : [0.9166666666666665, 0.41666666666666663, 0.9491525423728813, 0.8333333333333334] , [0.9166666666666665, 0.41666666666666663, 0.9491525423728813, 0.8333333333333334] \n",
      "==================================================\n",
      "input pattern :  [0.25000000000000006, 0.6249999999999999, 0.0847457627118644, 0.04166666666666667] [1]\n",
      "Hyperbox : [0.25000000000000006, 0.6249999999999999, 0.0847457627118644, 0.04166666666666667] , [0.25000000000000006, 0.6249999999999999, 0.0847457627118644, 0.04166666666666667] \n",
      "==================================================\n",
      "input pattern :  [0.13888888888888887, 0.4583333333333333, 0.1016949152542373, 0.04166666666666667] [1]\n",
      "Hyperbox : [0.1666666666666668, 0.41666666666666663, 0.06779661016949151, 0.04166666666666667] , [0.1666666666666668, 0.41666666666666663, 0.06779661016949151, 0.04166666666666667] \n",
      "Expanded Hyperbox :  [0.13888888888888887, 0.41666666666666663, 0.06779661016949151, 0.04166666666666667] [0.1666666666666668, 0.4583333333333333, 0.1016949152542373, 0.04166666666666667]\n",
      "==================================================\n",
      "input pattern :  [0.4999999999999999, 0.41666666666666663, 0.6101694915254237, 0.5416666666666666] [2]\n",
      "Hyperbox : [0.4999999999999999, 0.3749999999999999, 0.6271186440677966, 0.5416666666666666] , [0.4999999999999999, 0.3749999999999999, 0.6271186440677966, 0.5416666666666666] \n",
      "Expanded Hyperbox :  [0.4999999999999999, 0.3749999999999999, 0.6101694915254237, 0.5416666666666666] [0.4999999999999999, 0.41666666666666663, 0.6271186440677966, 0.5416666666666666]\n",
      "==================================================\n",
      "input pattern :  [0.41666666666666663, 0.2916666666666667, 0.4915254237288135, 0.4583333333333333] [2]\n",
      "Hyperbox : [0.41666666666666663, 0.2916666666666667, 0.4915254237288135, 0.4583333333333333] , [0.41666666666666663, 0.2916666666666667, 0.4915254237288135, 0.4583333333333333] \n",
      "==================================================\n",
      "input pattern :  [0.22222222222222213, 0.7499999999999998, 0.15254237288135591, 0.12500000000000003] [1]\n",
      "Hyperbox : [0.22222222222222213, 0.7499999999999998, 0.15254237288135591, 0.12500000000000003] , [0.22222222222222213, 0.7499999999999998, 0.15254237288135591, 0.12500000000000003] \n",
      "==================================================\n",
      "input pattern :  [0.5555555555555555, 0.5416666666666665, 0.847457627118644, 1.0] [3]\n",
      "Hyperbox : [0.5555555555555555, 0.5416666666666665, 0.847457627118644, 1.0] , [0.5555555555555555, 0.5416666666666665, 0.847457627118644, 1.0] \n",
      "==================================================\n",
      "input pattern :  [0.5833333333333334, 0.5, 0.7288135593220338, 0.9166666666666666] [3]\n",
      "Hyperbox : [0.5833333333333334, 0.5, 0.7288135593220338, 0.9166666666666666] , [0.5833333333333334, 0.5, 0.7288135593220338, 0.9166666666666666] \n",
      "==================================================\n",
      "input pattern :  [0.5277777777777778, 0.5833333333333333, 0.7457627118644068, 0.9166666666666666] [3]\n",
      "Hyperbox : [0.5833333333333334, 0.5, 0.7288135593220338, 0.9166666666666666] , [0.5833333333333334, 0.5, 0.7288135593220338, 0.9166666666666666] \n",
      "Expanded Hyperbox :  [0.5277777777777778, 0.5, 0.7288135593220338, 0.9166666666666666] [0.5833333333333334, 0.5833333333333333, 0.7457627118644068, 0.9166666666666666]\n",
      "==================================================\n",
      "input pattern :  [0.611111111111111, 0.41666666666666663, 0.8135593220338982, 0.8750000000000001] [3]\n",
      "Hyperbox : [0.611111111111111, 0.41666666666666663, 0.8135593220338982, 0.8750000000000001] , [0.611111111111111, 0.41666666666666663, 0.8135593220338982, 0.8750000000000001] \n",
      "==================================================\n",
      "input pattern :  [1.0, 0.7499999999999998, 0.9152542372881356, 0.7916666666666666] [3]\n",
      "Hyperbox : [1.0, 0.7499999999999998, 0.9152542372881356, 0.7916666666666666] , [1.0, 0.7499999999999998, 0.9152542372881356, 0.7916666666666666] \n",
      "==================================================\n",
      "input pattern :  [0.1666666666666668, 0.4583333333333333, 0.0847457627118644, 0.0] [1]\n",
      "Hyperbox : [0.13888888888888887, 0.41666666666666663, 0.06779661016949151, 0.04166666666666667] , [0.1666666666666668, 0.4583333333333333, 0.1016949152542373, 0.04166666666666667] \n",
      "Expanded Hyperbox :  [0.13888888888888887, 0.41666666666666663, 0.06779661016949151, 0.0] [0.1666666666666668, 0.4583333333333333, 0.1016949152542373, 0.04166666666666667]\n",
      "==================================================\n",
      "input pattern :  [0.4999999999999999, 0.3333333333333332, 0.5084745762711864, 0.5] [2]\n",
      "Hyperbox : [0.41666666666666663, 0.2916666666666667, 0.4915254237288135, 0.4583333333333333] , [0.41666666666666663, 0.2916666666666667, 0.4915254237288135, 0.4583333333333333] \n",
      "Expanded Hyperbox :  [0.41666666666666663, 0.2916666666666667, 0.4915254237288135, 0.4583333333333333] [0.4999999999999999, 0.3333333333333332, 0.5084745762711864, 0.5]\n",
      "Contracted  Hyperbox 1 :  [0.361111111111111, 0.3749999999999999, 0.4406779661016949, 0.5] [0.361111111111111, 0.41666666666666663, 0.4915254237288135, 0.5]\n",
      "Contracted Hyperbox 2 :  [0.41666666666666663, 0.2916666666666667, 0.4915254237288135, 0.4583333333333333] [0.4999999999999999, 0.3333333333333332, 0.5084745762711864, 0.5]\n",
      "==================================================\n",
      "input pattern :  [0.8055555555555556, 0.6666666666666666, 0.8644067796610169, 1.0] [3]\n",
      "Hyperbox : [0.8055555555555556, 0.6666666666666666, 0.8644067796610169, 1.0] , [0.8055555555555556, 0.6666666666666666, 0.8644067796610169, 1.0] \n",
      "==================================================\n",
      "input pattern :  [0.5555555555555555, 0.20833333333333331, 0.6779661016949152, 0.75] [3]\n",
      "Hyperbox : [0.5555555555555555, 0.20833333333333331, 0.6779661016949152, 0.75] , [0.5555555555555555, 0.20833333333333331, 0.6779661016949152, 0.75] \n",
      "==================================================\n",
      "input pattern :  [0.6944444444444443, 0.3333333333333332, 0.6440677966101694, 0.5416666666666666] [2]\n",
      "Hyperbox : [0.6944444444444443, 0.3333333333333332, 0.6440677966101694, 0.5416666666666666] , [0.6944444444444443, 0.3333333333333332, 0.6440677966101694, 0.5416666666666666] \n",
      "==================================================\n",
      "input pattern :  [0.3333333333333333, 0.1666666666666666, 0.4576271186440678, 0.375] [2]\n",
      "Hyperbox : [0.3333333333333333, 0.1666666666666666, 0.4576271186440678, 0.375] , [0.3333333333333333, 0.1666666666666666, 0.4576271186440678, 0.375] \n",
      "==================================================\n",
      "input pattern :  [0.4999999999999999, 0.25, 0.7796610169491525, 0.5416666666666666] [3]\n",
      "Hyperbox : [0.4999999999999999, 0.25, 0.7796610169491525, 0.5416666666666666] , [0.4999999999999999, 0.25, 0.7796610169491525, 0.5416666666666666] \n",
      "==================================================\n",
      "input pattern :  [0.38888888888888895, 0.3333333333333332, 0.5932203389830508, 0.5] [2]\n",
      "Hyperbox : [0.38888888888888895, 0.3333333333333332, 0.5932203389830508, 0.5] , [0.38888888888888895, 0.3333333333333332, 0.5932203389830508, 0.5] \n",
      "==================================================\n",
      "input pattern :  [0.4722222222222222, 0.5833333333333333, 0.5932203389830508, 0.625] [2]\n",
      "Hyperbox : [0.4722222222222222, 0.5833333333333333, 0.5932203389830508, 0.625] , [0.4722222222222222, 0.5833333333333333, 0.5932203389830508, 0.625] \n",
      "==================================================\n",
      "input pattern :  [0.38888888888888895, 1.0, 0.0847457627118644, 0.12500000000000003] [1]\n",
      "Hyperbox : [0.38888888888888895, 1.0, 0.0847457627118644, 0.12500000000000003] , [0.38888888888888895, 1.0, 0.0847457627118644, 0.12500000000000003] \n",
      "==================================================\n",
      "input pattern :  [0.13888888888888887, 0.41666666666666663, 0.06779661016949151, 0.0] [1]\n",
      "Hyperbox : [0.13888888888888887, 0.41666666666666663, 0.06779661016949151, 0.0] , [0.1666666666666668, 0.4583333333333333, 0.1016949152542373, 0.04166666666666667] \n",
      "Expanded Hyperbox :  [0.13888888888888887, 0.41666666666666663, 0.06779661016949151, 0.0] [0.1666666666666668, 0.4583333333333333, 0.1016949152542373, 0.04166666666666667]\n",
      "==================================================\n",
      "input pattern :  [0.27777777777777773, 0.7083333333333333, 0.0847457627118644, 0.04166666666666667] [1]\n",
      "Hyperbox : [0.25000000000000006, 0.6249999999999999, 0.0847457627118644, 0.04166666666666667] , [0.25000000000000006, 0.6249999999999999, 0.0847457627118644, 0.04166666666666667] \n",
      "Expanded Hyperbox :  [0.25000000000000006, 0.6249999999999999, 0.0847457627118644, 0.04166666666666667] [0.27777777777777773, 0.7083333333333333, 0.0847457627118644, 0.04166666666666667]\n",
      "==================================================\n",
      "input pattern :  [0.22222222222222213, 0.7499999999999998, 0.1016949152542373, 0.04166666666666667] [1]\n",
      "Hyperbox : [0.25000000000000006, 0.6249999999999999, 0.0847457627118644, 0.04166666666666667] , [0.27777777777777773, 0.7083333333333333, 0.0847457627118644, 0.04166666666666667] \n",
      "Expanded Hyperbox :  [0.22222222222222213, 0.6249999999999999, 0.0847457627118644, 0.04166666666666667] [0.27777777777777773, 0.7499999999999998, 0.1016949152542373, 0.04166666666666667]\n",
      "==================================================\n",
      "input pattern :  [0.30555555555555564, 0.7083333333333333, 0.0847457627118644, 0.04166666666666667] [1]\n",
      "Hyperbox : [0.30555555555555564, 0.7083333333333333, 0.0847457627118644, 0.04166666666666667] , [0.30555555555555564, 0.7083333333333333, 0.0847457627118644, 0.04166666666666667] \n",
      "==================================================\n",
      "input pattern :  [0.611111111111111, 0.3333333333333332, 0.6101694915254237, 0.5833333333333334] [2]\n",
      "Hyperbox : [0.6944444444444443, 0.3333333333333332, 0.6440677966101694, 0.5416666666666666] , [0.6944444444444443, 0.3333333333333332, 0.6440677966101694, 0.5416666666666666] \n",
      "Expanded Hyperbox :  [0.611111111111111, 0.3333333333333332, 0.6101694915254237, 0.5416666666666666] [0.6944444444444443, 0.3333333333333332, 0.6440677966101694, 0.5833333333333334]\n",
      "==================================================\n",
      "input pattern :  [0.3333333333333333, 0.1249999999999999, 0.5084745762711864, 0.5] [2]\n",
      "Hyperbox : [0.3333333333333333, 0.20833333333333331, 0.5084745762711864, 0.5] , [0.3333333333333333, 0.20833333333333331, 0.5084745762711864, 0.5] \n",
      "Expanded Hyperbox :  [0.3333333333333333, 0.1249999999999999, 0.5084745762711864, 0.5] [0.3333333333333333, 0.20833333333333331, 0.5084745762711864, 0.5]\n",
      "==================================================\n",
      "input pattern :  [0.11111111111111119, 0.5, 0.05084745762711865, 0.04166666666666667] [1]\n",
      "Hyperbox : [0.11111111111111119, 0.5, 0.05084745762711865, 0.04166666666666667] , [0.11111111111111119, 0.5, 0.05084745762711865, 0.04166666666666667] \n",
      "==================================================\n",
      "input pattern :  [0.4722222222222222, 0.2916666666666667, 0.6949152542372881, 0.625] [2]\n",
      "Hyperbox : [0.4722222222222222, 0.2916666666666667, 0.6949152542372881, 0.625] , [0.4722222222222222, 0.2916666666666667, 0.6949152542372881, 0.625] \n",
      "==================================================\n",
      "input pattern :  [0.9444444444444444, 0.41666666666666663, 0.8644067796610169, 0.9166666666666666] [3]\n",
      "Hyperbox : [0.9166666666666665, 0.41666666666666663, 0.9491525423728813, 0.8333333333333334] , [0.9166666666666665, 0.41666666666666663, 0.9491525423728813, 0.8333333333333334] \n",
      "Expanded Hyperbox :  [0.9166666666666665, 0.41666666666666663, 0.8644067796610169, 0.8333333333333334] [0.9444444444444444, 0.41666666666666663, 0.9491525423728813, 0.9166666666666666]\n",
      "==================================================\n",
      "input pattern :  [0.08333333333333327, 0.5, 0.06779661016949151, 0.04166666666666667] [1]\n",
      "Hyperbox : [0.11111111111111119, 0.5, 0.05084745762711865, 0.04166666666666667] , [0.11111111111111119, 0.5, 0.05084745762711865, 0.04166666666666667] \n",
      "Expanded Hyperbox :  [0.08333333333333327, 0.5, 0.05084745762711865, 0.04166666666666667] [0.11111111111111119, 0.5, 0.06779661016949151, 0.04166666666666667]\n",
      "==================================================\n",
      "input pattern :  [0.6666666666666666, 0.5416666666666665, 0.7966101694915254, 1.0] [3]\n",
      "Hyperbox : [0.5555555555555555, 0.5416666666666665, 0.847457627118644, 1.0] , [0.5555555555555555, 0.5416666666666665, 0.847457627118644, 1.0] \n",
      "Expanded Hyperbox :  [0.5555555555555555, 0.5416666666666665, 0.7966101694915254, 1.0] [0.6666666666666666, 0.5416666666666665, 0.847457627118644, 1.0]\n",
      "Contracted  Hyperbox 1 :  [0.5555555555555555, 0.5416666666666665, 0.7966101694915254, 1.0] [0.6388888888888888, 0.5416666666666665, 0.847457627118644, 1.0]\n",
      "Contracted Hyperbox 2 :  [0.625, 0.3333333333333332, 0.6101694915254237, 0.5416666666666666] [0.6944444444444443, 0.3333333333333332, 0.6440677966101694, 0.5833333333333334]\n",
      "==================================================\n",
      "input pattern :  [0.5833333333333334, 0.5, 0.5932203389830508, 0.5833333333333334] [2]\n",
      "Hyperbox : [0.5833333333333334, 0.5, 0.5932203389830508, 0.5833333333333334] , [0.5833333333333334, 0.5, 0.5932203389830508, 0.5833333333333334] \n",
      "==================================================\n",
      "input pattern :  [0.13888888888888887, 0.41666666666666663, 0.06779661016949151, 0.08333333333333333] [1]\n",
      "Hyperbox : [0.13888888888888887, 0.41666666666666663, 0.06779661016949151, 0.0] , [0.1666666666666668, 0.4583333333333333, 0.1016949152542373, 0.04166666666666667] \n",
      "Expanded Hyperbox :  [0.13888888888888887, 0.41666666666666663, 0.06779661016949151, 0.0] [0.1666666666666668, 0.4583333333333333, 0.1016949152542373, 0.08333333333333333]\n",
      "Contracted  Hyperbox 1 :  [0.5555555555555555, 0.5416666666666665, 0.7966101694915254, 1.0] [0.6319444444444444, 0.5416666666666665, 0.847457627118644, 1.0]\n",
      "Contracted Hyperbox 2 :  [0.6284722222222222, 0.3333333333333332, 0.6101694915254237, 0.5416666666666666] [0.6944444444444443, 0.3333333333333332, 0.6440677966101694, 0.5833333333333334]\n",
      "==================================================\n",
      "input pattern :  [0.361111111111111, 0.2916666666666667, 0.5423728813559322, 0.5] [2]\n",
      "Hyperbox : [0.38888888888888895, 0.3333333333333332, 0.5932203389830508, 0.5] , [0.38888888888888895, 0.3333333333333332, 0.5932203389830508, 0.5] \n",
      "Expanded Hyperbox :  [0.361111111111111, 0.2916666666666667, 0.5423728813559322, 0.5] [0.38888888888888895, 0.3333333333333332, 0.5932203389830508, 0.5]\n",
      "Contracted  Hyperbox 1 :  [0.5555555555555555, 0.5416666666666665, 0.7966101694915254, 1.0] [0.6302083333333333, 0.5416666666666665, 0.847457627118644, 1.0]\n",
      "Contracted Hyperbox 2 :  [0.6293402777777777, 0.3333333333333332, 0.6101694915254237, 0.5416666666666666] [0.6944444444444443, 0.3333333333333332, 0.6440677966101694, 0.5833333333333334]\n",
      "==================================================\n",
      "input pattern :  [0.4722222222222222, 0.0833333333333334, 0.6779661016949152, 0.5833333333333334] [3]\n",
      "Hyperbox : [0.4722222222222222, 0.0833333333333334, 0.6779661016949152, 0.5833333333333334] , [0.4722222222222222, 0.0833333333333334, 0.6779661016949152, 0.5833333333333334] \n",
      "==================================================\n",
      "input pattern :  [0.30555555555555564, 0.41666666666666663, 0.5932203389830508, 0.5833333333333334] [2]\n",
      "Hyperbox : [0.30555555555555564, 0.41666666666666663, 0.5932203389830508, 0.5833333333333334] , [0.30555555555555564, 0.41666666666666663, 0.5932203389830508, 0.5833333333333334] \n",
      "==================================================\n",
      "input pattern :  [0.7777777777777776, 0.41666666666666663, 0.8305084745762712, 0.8333333333333334] [3]\n",
      "Hyperbox : [0.7777777777777776, 0.41666666666666663, 0.8305084745762712, 0.8333333333333334] , [0.7777777777777776, 0.41666666666666663, 0.8305084745762712, 0.8333333333333334] \n",
      "==================================================\n",
      "input pattern :  [0.38888888888888895, 0.41666666666666663, 0.5423728813559322, 0.4583333333333333] [2]\n",
      "Hyperbox : [0.38888888888888895, 0.41666666666666663, 0.5423728813559322, 0.4583333333333333] , [0.38888888888888895, 0.41666666666666663, 0.5423728813559322, 0.4583333333333333] \n",
      "==================================================\n",
      "input pattern :  [0.0, 0.41666666666666663, 0.016949152542372895, 0.0] [1]\n",
      "Hyperbox : [0.0, 0.41666666666666663, 0.016949152542372895, 0.0] , [0.0, 0.41666666666666663, 0.016949152542372895, 0.0] \n",
      "==================================================\n",
      "input pattern :  [0.25000000000000006, 0.5833333333333333, 0.06779661016949151, 0.04166666666666667] [1]\n",
      "Hyperbox : [0.30555555555555564, 0.7083333333333333, 0.0847457627118644, 0.04166666666666667] , [0.30555555555555564, 0.7083333333333333, 0.0847457627118644, 0.04166666666666667] \n",
      "Expanded Hyperbox :  [0.25000000000000006, 0.5833333333333333, 0.06779661016949151, 0.04166666666666667] [0.30555555555555564, 0.7083333333333333, 0.0847457627118644, 0.04166666666666667]\n",
      "Contracted  Hyperbox 1 :  [0.5555555555555555, 0.5416666666666665, 0.7966101694915254, 1.0] [0.6297743055555555, 0.5416666666666665, 0.847457627118644, 1.0]\n",
      "Contracted Hyperbox 2 :  [0.6295572916666665, 0.3333333333333332, 0.6101694915254237, 0.5416666666666666] [0.6944444444444443, 0.3333333333333332, 0.6440677966101694, 0.5833333333333334]\n",
      "==================================================\n",
      "input pattern :  [0.8333333333333333, 0.3749999999999999, 0.8983050847457626, 0.7083333333333334] [3]\n",
      "Hyperbox : [0.8333333333333333, 0.3749999999999999, 0.8983050847457626, 0.7083333333333334] , [0.8333333333333333, 0.3749999999999999, 0.8983050847457626, 0.7083333333333334] \n",
      "==================================================\n",
      "input pattern :  [0.8055555555555556, 0.5, 0.847457627118644, 0.7083333333333334] [3]\n",
      "Hyperbox : [0.8055555555555556, 0.5, 0.847457627118644, 0.7083333333333334] , [0.8055555555555556, 0.5, 0.847457627118644, 0.7083333333333334] \n",
      "==================================================\n",
      "input pattern :  [0.3333333333333333, 0.25, 0.576271186440678, 0.4583333333333333] [2]\n",
      "Hyperbox : [0.3333333333333333, 0.25, 0.576271186440678, 0.4583333333333333] , [0.3333333333333333, 0.25, 0.576271186440678, 0.4583333333333333] \n",
      "==================================================\n",
      "input pattern :  [0.5833333333333334, 0.3333333333333332, 0.7796610169491525, 0.8750000000000001] [3]\n",
      "Hyperbox : [0.611111111111111, 0.41666666666666663, 0.8135593220338982, 0.8750000000000001] , [0.611111111111111, 0.41666666666666663, 0.8135593220338982, 0.8750000000000001] \n",
      "Expanded Hyperbox :  [0.5833333333333334, 0.3333333333333332, 0.7796610169491525, 0.8750000000000001] [0.611111111111111, 0.41666666666666663, 0.8135593220338982, 0.8750000000000001]\n",
      "Contracted  Hyperbox 1 :  [0.5555555555555555, 0.5416666666666665, 0.7966101694915254, 1.0] [0.6296657986111109, 0.5416666666666665, 0.847457627118644, 1.0]\n",
      "Contracted Hyperbox 2 :  [0.6296115451388887, 0.3333333333333332, 0.6101694915254237, 0.5416666666666666] [0.6944444444444443, 0.3333333333333332, 0.6440677966101694, 0.5833333333333334]\n",
      "==================================================\n",
      "input pattern :  [0.19444444444444448, 0.6249999999999999, 0.05084745762711865, 0.08333333333333333] [1]\n",
      "Hyperbox : [0.19444444444444448, 0.6249999999999999, 0.05084745762711865, 0.08333333333333333] , [0.19444444444444448, 0.6249999999999999, 0.05084745762711865, 0.08333333333333333] \n",
      "==================================================\n",
      "input pattern :  [0.25000000000000006, 0.8749999999999998, 0.0847457627118644, 0.0] [1]\n",
      "Hyperbox : [0.25000000000000006, 0.8749999999999998, 0.0847457627118644, 0.0] , [0.25000000000000006, 0.8749999999999998, 0.0847457627118644, 0.0] \n",
      "==================================================\n",
      "input pattern :  [0.41666666666666663, 0.8333333333333333, 0.033898305084745756, 0.04166666666666667] [1]\n",
      "Hyperbox : [0.41666666666666663, 0.8333333333333333, 0.033898305084745756, 0.04166666666666667] , [0.41666666666666663, 0.8333333333333333, 0.033898305084745756, 0.04166666666666667] \n",
      "==================================================\n",
      "input pattern :  [0.30555555555555564, 0.5833333333333333, 0.11864406779661016, 0.04166666666666667] [1]\n",
      "Hyperbox : [0.30555555555555564, 0.5833333333333333, 0.11864406779661016, 0.04166666666666667] , [0.30555555555555564, 0.5833333333333333, 0.11864406779661016, 0.04166666666666667] \n",
      "==================================================\n",
      "input pattern :  [0.4722222222222222, 0.41666666666666663, 0.6440677966101694, 0.7083333333333334] [3]\n",
      "Hyperbox : [0.44444444444444453, 0.41666666666666663, 0.6610169491525424, 0.7083333333333334] , [0.4999999999999999, 0.41666666666666663, 0.6949152542372881, 0.7083333333333334] \n",
      "Expanded Hyperbox :  [0.44444444444444453, 0.41666666666666663, 0.6440677966101694, 0.7083333333333334] [0.4999999999999999, 0.41666666666666663, 0.6949152542372881, 0.7083333333333334]\n",
      "Contracted  Hyperbox 1 :  [0.5555555555555555, 0.5416666666666665, 0.7966101694915254, 1.0] [0.6296386718749998, 0.5416666666666665, 0.847457627118644, 1.0]\n",
      "Contracted Hyperbox 2 :  [0.6296251085069442, 0.3333333333333332, 0.6101694915254237, 0.5416666666666666] [0.6944444444444443, 0.3333333333333332, 0.6440677966101694, 0.5833333333333334]\n",
      "==================================================\n",
      "input pattern :  [0.22222222222222213, 0.7499999999999998, 0.0847457627118644, 0.08333333333333333] [1]\n",
      "Hyperbox : [0.22222222222222213, 0.7499999999999998, 0.15254237288135591, 0.12500000000000003] , [0.22222222222222213, 0.7499999999999998, 0.15254237288135591, 0.12500000000000003] \n",
      "Expanded Hyperbox :  [0.22222222222222213, 0.7499999999999998, 0.0847457627118644, 0.08333333333333333] [0.22222222222222213, 0.7499999999999998, 0.15254237288135591, 0.12500000000000003]\n",
      "Contracted  Hyperbox 1 :  [0.5555555555555555, 0.5416666666666665, 0.7966101694915254, 1.0] [0.629631890190972, 0.5416666666666665, 0.847457627118644, 1.0]\n",
      "Contracted Hyperbox 2 :  [0.629628499348958, 0.3333333333333332, 0.6101694915254237, 0.5416666666666666] [0.6944444444444443, 0.3333333333333332, 0.6440677966101694, 0.5833333333333334]\n",
      "==================================================\n",
      "input pattern :  [0.30555555555555564, 0.5833333333333333, 0.0847457627118644, 0.12500000000000003] [1]\n",
      "Hyperbox : [0.30555555555555564, 0.5833333333333333, 0.11864406779661016, 0.04166666666666667] , [0.30555555555555564, 0.5833333333333333, 0.11864406779661016, 0.04166666666666667] \n",
      "Expanded Hyperbox :  [0.30555555555555564, 0.5833333333333333, 0.0847457627118644, 0.04166666666666667] [0.30555555555555564, 0.5833333333333333, 0.11864406779661016, 0.12500000000000003]\n",
      "Contracted  Hyperbox 1 :  [0.5555555555555555, 0.5416666666666665, 0.7966101694915254, 1.0] [0.629630194769965, 0.5416666666666665, 0.847457627118644, 1.0]\n",
      "Contracted Hyperbox 2 :  [0.6296293470594615, 0.3333333333333332, 0.6101694915254237, 0.5416666666666666] [0.6944444444444443, 0.3333333333333332, 0.6440677966101694, 0.5833333333333334]\n",
      "==================================================\n",
      "input pattern :  [0.19444444444444448, 0.0, 0.423728813559322, 0.375] [2]\n",
      "Hyperbox : [0.19444444444444448, 0.0, 0.423728813559322, 0.375] , [0.19444444444444448, 0.0, 0.423728813559322, 0.375] \n",
      "==================================================\n",
      "input pattern :  [0.361111111111111, 0.41666666666666663, 0.5932203389830508, 0.5833333333333334] [2]\n",
      "Hyperbox : [0.30555555555555564, 0.41666666666666663, 0.5932203389830508, 0.5833333333333334] , [0.30555555555555564, 0.41666666666666663, 0.5932203389830508, 0.5833333333333334] \n",
      "Expanded Hyperbox :  [0.30555555555555564, 0.41666666666666663, 0.5932203389830508, 0.5833333333333334] [0.361111111111111, 0.41666666666666663, 0.5932203389830508, 0.5833333333333334]\n",
      "Contracted  Hyperbox 1 :  [0.5555555555555555, 0.5416666666666665, 0.7966101694915254, 1.0] [0.6296297709147132, 0.5416666666666665, 0.847457627118644, 1.0]\n",
      "Contracted Hyperbox 2 :  [0.6296295589870873, 0.3333333333333332, 0.6101694915254237, 0.5416666666666666] [0.6944444444444443, 0.3333333333333332, 0.6440677966101694, 0.5833333333333334]\n",
      "==================================================\n",
      "input pattern :  [0.5833333333333334, 0.3749999999999999, 0.559322033898305, 0.5] [2]\n",
      "Hyperbox : [0.5833333333333334, 0.3749999999999999, 0.559322033898305, 0.5] , [0.5833333333333334, 0.3749999999999999, 0.559322033898305, 0.5] \n",
      "==================================================\n",
      "input pattern :  [0.08333333333333327, 0.6666666666666666, 0.0, 0.04166666666666667] [1]\n",
      "Hyperbox : [0.08333333333333327, 0.6666666666666666, 0.0, 0.04166666666666667] , [0.08333333333333327, 0.6666666666666666, 0.0, 0.04166666666666667] \n",
      "==================================================\n",
      "input pattern :  [0.5555555555555555, 0.1249999999999999, 0.576271186440678, 0.5] [2]\n",
      "Hyperbox : [0.5555555555555555, 0.1249999999999999, 0.576271186440678, 0.5] , [0.5555555555555555, 0.1249999999999999, 0.576271186440678, 0.5] \n",
      "==================================================\n",
      "final hyperbox : \n",
      "V :  [[0.7222222222222222, 0.4583333333333333, 0.6949152542372881, 0.9166666666666666], [0.1666666666666668, 0.1666666666666666, 0.38983050847457623, 0.375], [0.361111111111111, 0.3749999999999999, 0.4406779661016949, 0.5], [0.38888888888888895, 0.20833333333333331, 0.6779661016949152, 0.75], [0.38888888888888895, 0.7499999999999998, 0.11864406779661016, 0.08333333333333333], [0.5555555555555555, 0.3749999999999999, 0.7796610169491525, 0.7083333333333334], [0.4999999999999999, 0.3749999999999999, 0.6101694915254237, 0.5416666666666666], [0.13888888888888887, 0.41666666666666663, 0.06779661016949151, 0.0], [0.3333333333333333, 0.1249999999999999, 0.5084745762711864, 0.5], [0.41666666666666663, 0.3333333333333332, 0.6949152542372881, 0.9583333333333333], [0.44444444444444453, 0.41666666666666663, 0.6440677966101694, 0.7083333333333334], [0.8055555555555556, 0.41666666666666663, 0.8135593220338982, 0.625], [0.7222222222222222, 0.4583333333333333, 0.6610169491525424, 0.5833333333333334], [0.44444444444444453, 0.5, 0.6440677966101694, 0.7083333333333334], [0.6944444444444443, 0.5, 0.8305084745762712, 0.9166666666666666], [0.9166666666666665, 0.41666666666666663, 0.8644067796610169, 0.8333333333333334], [0.22222222222222213, 0.6249999999999999, 0.0847457627118644, 0.04166666666666667], [0.41666666666666663, 0.2916666666666667, 0.4915254237288135, 0.4583333333333333], [0.22222222222222213, 0.7499999999999998, 0.0847457627118644, 0.08333333333333333], [0.5555555555555555, 0.5416666666666665, 0.7966101694915254, 1.0], [0.5277777777777778, 0.5, 0.7288135593220338, 0.9166666666666666], [0.5833333333333334, 0.3333333333333332, 0.7796610169491525, 0.8750000000000001], [1.0, 0.7499999999999998, 0.9152542372881356, 0.7916666666666666], [0.8055555555555556, 0.6666666666666666, 0.8644067796610169, 1.0], [0.5555555555555555, 0.20833333333333331, 0.6779661016949152, 0.75], [0.6296295589870873, 0.3333333333333332, 0.6101694915254237, 0.5416666666666666], [0.3333333333333333, 0.1666666666666666, 0.4576271186440678, 0.375], [0.4999999999999999, 0.25, 0.7796610169491525, 0.5416666666666666], [0.361111111111111, 0.2916666666666667, 0.5423728813559322, 0.5], [0.4722222222222222, 0.5833333333333333, 0.5932203389830508, 0.625], [0.38888888888888895, 1.0, 0.0847457627118644, 0.12500000000000003], [0.25000000000000006, 0.5833333333333333, 0.06779661016949151, 0.04166666666666667], [0.08333333333333327, 0.5, 0.05084745762711865, 0.04166666666666667], [0.4722222222222222, 0.2916666666666667, 0.6949152542372881, 0.625], [0.5833333333333334, 0.5, 0.5932203389830508, 0.5833333333333334], [0.4722222222222222, 0.0833333333333334, 0.6779661016949152, 0.5833333333333334], [0.30555555555555564, 0.41666666666666663, 0.5932203389830508, 0.5833333333333334], [0.7777777777777776, 0.41666666666666663, 0.8305084745762712, 0.8333333333333334], [0.38888888888888895, 0.41666666666666663, 0.5423728813559322, 0.4583333333333333], [0.0, 0.41666666666666663, 0.016949152542372895, 0.0], [0.8333333333333333, 0.3749999999999999, 0.8983050847457626, 0.7083333333333334], [0.8055555555555556, 0.5, 0.847457627118644, 0.7083333333333334], [0.3333333333333333, 0.25, 0.576271186440678, 0.4583333333333333], [0.19444444444444448, 0.6249999999999999, 0.05084745762711865, 0.08333333333333333], [0.25000000000000006, 0.8749999999999998, 0.0847457627118644, 0.0], [0.41666666666666663, 0.8333333333333333, 0.033898305084745756, 0.04166666666666667], [0.30555555555555564, 0.5833333333333333, 0.0847457627118644, 0.04166666666666667], [0.19444444444444448, 0.0, 0.423728813559322, 0.375], [0.5833333333333334, 0.3749999999999999, 0.559322033898305, 0.5], [0.08333333333333327, 0.6666666666666666, 0.0, 0.04166666666666667], [0.5555555555555555, 0.1249999999999999, 0.576271186440678, 0.5]]\n",
      "W :  [[0.7222222222222222, 0.4583333333333333, 0.6949152542372881, 0.9166666666666666], [0.1666666666666668, 0.1666666666666666, 0.38983050847457623, 0.375], [0.361111111111111, 0.41666666666666663, 0.4915254237288135, 0.5], [0.41666666666666663, 0.2916666666666667, 0.6949152542372881, 0.7916666666666666], [0.38888888888888895, 0.7499999999999998, 0.11864406779661016, 0.08333333333333333], [0.5555555555555555, 0.3749999999999999, 0.7796610169491525, 0.7083333333333334], [0.4999999999999999, 0.41666666666666663, 0.6271186440677966, 0.5416666666666666], [0.1666666666666668, 0.4583333333333333, 0.1016949152542373, 0.08333333333333333], [0.3333333333333333, 0.20833333333333331, 0.5084745762711864, 0.5], [0.41666666666666663, 0.3333333333333332, 0.6949152542372881, 0.9583333333333333], [0.4999999999999999, 0.41666666666666663, 0.6949152542372881, 0.7083333333333334], [0.8055555555555556, 0.41666666666666663, 0.8135593220338982, 0.625], [0.7222222222222222, 0.4583333333333333, 0.6610169491525424, 0.5833333333333334], [0.44444444444444453, 0.5, 0.6440677966101694, 0.7083333333333334], [0.6944444444444443, 0.5, 0.8305084745762712, 0.9166666666666666], [0.9444444444444444, 0.41666666666666663, 0.9491525423728813, 0.9166666666666666], [0.27777777777777773, 0.7499999999999998, 0.1016949152542373, 0.04166666666666667], [0.4999999999999999, 0.3333333333333332, 0.5084745762711864, 0.5], [0.22222222222222213, 0.7499999999999998, 0.15254237288135591, 0.12500000000000003], [0.6296297709147132, 0.5416666666666665, 0.847457627118644, 1.0], [0.5833333333333334, 0.5833333333333333, 0.7457627118644068, 0.9166666666666666], [0.611111111111111, 0.41666666666666663, 0.8135593220338982, 0.8750000000000001], [1.0, 0.7499999999999998, 0.9152542372881356, 0.7916666666666666], [0.8055555555555556, 0.6666666666666666, 0.8644067796610169, 1.0], [0.5555555555555555, 0.20833333333333331, 0.6779661016949152, 0.75], [0.6944444444444443, 0.3333333333333332, 0.6440677966101694, 0.5833333333333334], [0.3333333333333333, 0.1666666666666666, 0.4576271186440678, 0.375], [0.4999999999999999, 0.25, 0.7796610169491525, 0.5416666666666666], [0.38888888888888895, 0.3333333333333332, 0.5932203389830508, 0.5], [0.4722222222222222, 0.5833333333333333, 0.5932203389830508, 0.625], [0.38888888888888895, 1.0, 0.0847457627118644, 0.12500000000000003], [0.30555555555555564, 0.7083333333333333, 0.0847457627118644, 0.04166666666666667], [0.11111111111111119, 0.5, 0.06779661016949151, 0.04166666666666667], [0.4722222222222222, 0.2916666666666667, 0.6949152542372881, 0.625], [0.5833333333333334, 0.5, 0.5932203389830508, 0.5833333333333334], [0.4722222222222222, 0.0833333333333334, 0.6779661016949152, 0.5833333333333334], [0.361111111111111, 0.41666666666666663, 0.5932203389830508, 0.5833333333333334], [0.7777777777777776, 0.41666666666666663, 0.8305084745762712, 0.8333333333333334], [0.38888888888888895, 0.41666666666666663, 0.5423728813559322, 0.4583333333333333], [0.0, 0.41666666666666663, 0.016949152542372895, 0.0], [0.8333333333333333, 0.3749999999999999, 0.8983050847457626, 0.7083333333333334], [0.8055555555555556, 0.5, 0.847457627118644, 0.7083333333333334], [0.3333333333333333, 0.25, 0.576271186440678, 0.4583333333333333], [0.19444444444444448, 0.6249999999999999, 0.05084745762711865, 0.08333333333333333], [0.25000000000000006, 0.8749999999999998, 0.0847457627118644, 0.0], [0.41666666666666663, 0.8333333333333333, 0.033898305084745756, 0.04166666666666667], [0.30555555555555564, 0.5833333333333333, 0.11864406779661016, 0.12500000000000003], [0.19444444444444448, 0.0, 0.423728813559322, 0.375], [0.5833333333333334, 0.3749999999999999, 0.559322033898305, 0.5], [0.08333333333333327, 0.6666666666666666, 0.0, 0.04166666666666667], [0.5555555555555555, 0.1249999999999999, 0.576271186440678, 0.5]]\n"
     ]
    }
   ],
   "source": [
    "fuzzy.train(train,train_labels,1)"
   ]
  },
  {
   "cell_type": "code",
   "execution_count": 72,
   "metadata": {},
   "outputs": [
    {
     "data": {
      "text/plain": [
       "(51, 51)"
      ]
     },
     "execution_count": 72,
     "metadata": {},
     "output_type": "execute_result"
    }
   ],
   "source": [
    "len(fuzzy.V) , len(fuzzy.W)"
   ]
  },
  {
   "cell_type": "markdown",
   "metadata": {},
   "source": [
    "### As Hyperbox created is 4 dimentional we visualize it in 2D so there are 6 possible combinations of 2 dimensions we have "
   ]
  },
  {
   "cell_type": "code",
   "execution_count": 73,
   "metadata": {
    "collapsed": true
   },
   "outputs": [],
   "source": [
    "def show_plot(ax,dim_1,dim_2):\n",
    "    for i in range(len(fuzzy.V)):\n",
    "        if fuzzy.hyperbox_class[i]==[1]:\n",
    "            draw_box(ax,[fuzzy.V[i][_] for _ in \\\n",
    "                    [dim_1-1,dim_2-1]],[fuzzy.W[i][_] for _ in\\\n",
    "                    [dim_1-1,dim_2-1]],color='g')\n",
    "        elif fuzzy.hyperbox_class[i]==[2]:\n",
    "            draw_box(ax,[fuzzy.V[i][_] for _ in \\\n",
    "                        [dim_1-1,dim_2-1]],[fuzzy.W[i][_] for _ in \\\n",
    "                        [dim_1-1,dim_2-1]],color='b')\n",
    "        else:\n",
    "            draw_box(ax,[fuzzy.V[i][_] for _ in \\\n",
    "                        [dim_1-1,dim_2-1]],[fuzzy.W[i][_] for _ in \\\n",
    "                        [dim_1-1,dim_2-1]],color='r')\n",
    "    \n",
    "    for i in range(len(train)):\n",
    "        if train_labels[i] == [1]:\n",
    "            ax.scatter(train[i][dim_1-1],train[i][dim_2-1] , marker='o', c='g')\n",
    "        elif train_labels[i] == [2]:\n",
    "            ax.scatter(train[i][dim_1-1],train[i][dim_2-1] , marker='o', c='b')\n",
    "        else:\n",
    "            ax.scatter(train[i][dim_1-1],train[i][dim_2-1] , marker='o', c='r')\n",
    "    \n",
    "    plt.xlabel('Dimension {}'.format(dim_1))\n",
    "    plt.ylabel('Dimension {}'.format(dim_2))\n",
    "    plt.title('Dimension {} & {}'.format(dim_1,dim_2))\n",
    "    plt.xlim([0,1])\n",
    "    plt.ylim([0,1])\n",
    "    plt.show()"
   ]
  },
  {
   "cell_type": "code",
   "execution_count": 74,
   "metadata": {},
   "outputs": [
    {
     "data": {
      "image/png": "[encoded data removed]",
      "text/plain": [
       "<matplotlib.figure.Figure at 0x114bc2898>"
      ]
     },
     "metadata": {},
     "output_type": "display_data"
    },
    {
     "data": {
      "image/png": "[encoded data removed]",
      "text/plain": [
       "<matplotlib.figure.Figure at 0x116635b70>"
      ]
     },
     "metadata": {},
     "output_type": "display_data"
    },
    {
     "data": {
      "image/png": "[encoded data removed]",
      "text/plain": [
       "<matplotlib.figure.Figure at 0x115e32128>"
      ]
     },
     "metadata": {},
     "output_type": "display_data"
    },
    {
     "data": {
      "image/png": "[encoded data removed]",
      "text/plain": [
       "<matplotlib.figure.Figure at 0x115d0e240>"
      ]
     },
     "metadata": {},
     "output_type": "display_data"
    },
    {
     "data": {
      "image/png": "[encoded data removed]",
      "text/plain": [
       "<matplotlib.figure.Figure at 0x115e69898>"
      ]
     },
     "metadata": {},
     "output_type": "display_data"
    },
    {
     "data": {
      "image/png": "[encoded data removed]",
      "text/plain": [
       "<matplotlib.figure.Figure at 0x111656438>"
      ]
     },
     "metadata": {},
     "output_type": "display_data"
    }
   ],
   "source": [
    "fig1 = plt.figure(1)\n",
    "ax = fig1.add_subplot(111, aspect='equal',alpha=0.7)\n",
    "show_plot(ax,1,2)\n",
    "\n",
    "fig2 = plt.figure(2)\n",
    "ax = fig2.add_subplot(111, aspect='equal',alpha=0.7)\n",
    "show_plot(ax,1,3)\n",
    "\n",
    "fig3 = plt.figure(3)\n",
    "ax = fig3.add_subplot(111, aspect='equal',alpha=0.7)\n",
    "show_plot(ax,1,4)\n",
    "\n",
    "fig4 = plt.figure(4)\n",
    "ax = fig4.add_subplot(111, aspect='equal',alpha=0.7)\n",
    "show_plot(ax,2,3)\n",
    "\n",
    "fig5 = plt.figure(5)\n",
    "ax = fig5.add_subplot(111, aspect='equal',alpha=0.7)\n",
    "show_plot(ax,2,4)\n",
    "\n",
    "fig6 = plt.figure(6)\n",
    "ax = fig6.add_subplot(111, aspect='equal',alpha=0.7)\n",
    "show_plot(ax,3,4)\n",
    "\n"
   ]
  },
  {
   "cell_type": "code",
   "execution_count": 75,
   "metadata": {
    "collapsed": true
   },
   "outputs": [],
   "source": [
    "def get_class(x):\n",
    "        mylist = []\n",
    "        for i in range(len(fuzzy.V)):\n",
    "            mylist.append([fuzzy.fuzzy_membership(x,fuzzy.V[i],fuzzy.W[i])])\n",
    "            \n",
    "        result = np.multiply(mylist,fuzzy.U)\n",
    "        mylist=[]\n",
    "        for i in range(fuzzy.clasess):\n",
    "            mylist.append(max(result[:,i]))\n",
    "            \n",
    "        #print(mylist)\n",
    "        #print(mylist.index(max(mylist))+1,max(mylist))\n",
    "        #print('pattern belongs to class {} with fuzzy membership : {}'.format(mylist.index(max(mylist))+1,max(mylist)))\n",
    "        return [mylist.index(max(mylist))+1]\n",
    "      "
   ]
  },
  {
   "cell_type": "code",
   "execution_count": 76,
   "metadata": {
    "collapsed": true
   },
   "outputs": [],
   "source": [
    "def score(train,train_labels):\n",
    "    counter=0\n",
    "    wronge=0\n",
    "    for i in range(len(train)):\n",
    "        if get_class(train[i]) == train_labels[i] :\n",
    "            counter+=1\n",
    "        else:\n",
    "            wronge+=1\n",
    "            \n",
    "    print('No of misclassification : {}'.format(wronge))\n",
    "    return (counter/len(train_labels))*100"
   ]
  },
  {
   "cell_type": "code",
   "execution_count": 77,
   "metadata": {},
   "outputs": [
    {
     "name": "stdout",
     "output_type": "stream",
     "text": [
      "No of misclassification : 0\n",
      "Accuracy : 100.0 %\n"
     ]
    }
   ],
   "source": [
    "print('Accuracy : {} %'.format(score(train,train_labels)))"
   ]
  },
  {
   "cell_type": "code",
   "execution_count": 78,
   "metadata": {},
   "outputs": [
    {
     "name": "stdout",
     "output_type": "stream",
     "text": [
      "No of misclassification : 3\n",
      "Accuracy (test) : 96.0 %\n"
     ]
    }
   ],
   "source": [
    "print('Accuracy (test) : {} %'.format(score(test,test_labels)))"
   ]
  },
  {
   "cell_type": "code",
   "execution_count": null,
   "metadata": {
    "collapsed": true
   },
   "outputs": [],
   "source": []
  }
 ],
 "metadata": {
  "kernelspec": {
   "display_name": "Python 3",
   "language": "python",
   "name": "python3"
  },
  "language_info": {
   "codemirror_mode": {
    "name": "ipython",
    "version": 3
   },
   "file_extension": ".py",
   "mimetype": "text/x-python",
   "name": "python",
   "nbconvert_exporter": "python",
   "pygments_lexer": "ipython3",
   "version": "3.6.3"
  }
 },
 "nbformat": 4,
 "nbformat_minor": 2
}
