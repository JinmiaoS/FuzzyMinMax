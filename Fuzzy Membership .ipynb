{
 "cells": [
  {
   "cell_type": "code",
   "execution_count": 1,
   "metadata": {
    "collapsed": true
   },
   "outputs": [],
   "source": [
    "##FUZZY NEURAK NETWORK"
   ]
  },
  {
   "cell_type": "code",
   "execution_count": 3,
   "metadata": {
    "collapsed": true
   },
   "outputs": [],
   "source": [
    "import numpy as np"
   ]
  },
  {
   "cell_type": "code",
   "execution_count": 29,
   "metadata": {
    "collapsed": true
   },
   "outputs": [],
   "source": [
    "#membership function\n",
    "\n",
    "def bj(Ah,V,W,g):\n",
    "    sum =0\n",
    "    for i in range(len(Ah)):\n",
    "        sum = sum + max(0,1-max(0,g*min(1,Ah[i]-W[i]))) + max(0,1-max(0,g*min(1,V[i]-Ah[i])))\n",
    "    sum = sum/(2*len(Ah))\n",
    "    return(sum)"
   ]
  },
  {
   "cell_type": "code",
   "execution_count": 9,
   "metadata": {},
   "outputs": [
    {
     "name": "stdout",
     "output_type": "stream",
     "text": [
      "0.85\n"
     ]
    }
   ],
   "source": [
    "Ah = [0.9,0.9]\n",
    "V = [0.3,0.3]\n",
    "W = [0.6,0.6]\n",
    "print(bj(Ah,V,W,1))"
   ]
  },
  {
   "cell_type": "code",
   "execution_count": 44,
   "metadata": {},
   "outputs": [],
   "source": [
    "V = [0.3,0.3]\n",
    "W = [0.6,0.6]\n",
    "x = list()\n",
    "z= list()\n",
    "y = list()\n",
    "for i in range(1,1000,10):\n",
    "    for j in range(1,1000,10):\n",
    "        Ah = [i,j]\n",
    "        x.append(i)\n",
    "        y.append(j)\n",
    "        z.append(bj(Ah,V,W,1))\n",
    "        "
   ]
  },
  {
   "cell_type": "code",
   "execution_count": 47,
   "metadata": {},
   "outputs": [
    {
     "data": {
      "image/png": "[encoded data removed]",
      "text/plain": [
       "<matplotlib.figure.Figure at 0x115f7df60>"
      ]
     },
     "execution_count": 47,
     "metadata": {},
     "output_type": "execute_result"
    }
   ],
   "source": [
    "import matplotlib.pyplot as plt\n",
    "from mpl_toolkits.mplot3d import Axes3D\n",
    "from mpl_toolkits.mplot3d.art3d import Poly3DCollection, Line3DCollection\n",
    "X = np.array(x)\n",
    "Y = np.array(y)\n",
    "Z = np.array(z)\n",
    "fig = plt.figure()\n",
    "ax = plt.axes(projection='3d')\n",
    "# Data for three-dimensional scattered points\n",
    "zdata = 15 * np.random.random(100)\n",
    "xdata = np.sin(zdata) + 0.1 * np.random.randn(100)\n",
    "ydata = np.cos(zdata) + 0.1 * np.random.randn(100)\n",
    "ax.scatter3D(X, Y, Z, c=Z, cmap='Greens');\n",
    "ax.view_init(600, 350)\n",
    "fig"
   ]
  },
  {
   "cell_type": "code",
   "execution_count": 39,
   "metadata": {},
   "outputs": [],
   "source": [
    "##Fuzzy Min Max With Variable Gamma Value\n",
    "import random\n",
    "V = [0.3,0.3]\n",
    "W = [0.6,0.6]\n",
    "x = list()\n",
    "z= list()\n",
    "y = list()\n",
    "for i in range(1,1000,10):\n",
    "    Ah = [0.3,0.3]\n",
    "    x.append(0.3)\n",
    "    y.append(0.3)\n",
    "    g = random.randint(1,1000)\n",
    "    z.append(bj(Ah,V,W,g))"
   ]
  },
  {
   "cell_type": "code",
   "execution_count": 40,
   "metadata": {},
   "outputs": [
    {
     "data": {
      "text/plain": [
       "(array([  1,   1,   1, ..., 991, 991, 991]),\n",
       " array([  1,  11,  21, ..., 971, 981, 991]),\n",
       " array([ 0.8 ,  0.65,  0.65, ...,  0.5 ,  0.5 ,  0.5 ]))"
      ]
     },
     "execution_count": 40,
     "metadata": {},
     "output_type": "execute_result"
    }
   ],
   "source": [
    "X,Y,Z"
   ]
  },
  {
   "cell_type": "code",
   "execution_count": 58,
   "metadata": {},
   "outputs": [],
   "source": [
    "##Implementing Algorithm \n",
    "\n",
    "hyperbox = np.empty([50,3])\n",
    "Ah = list()\n",
    "for i in range(50):\n",
    "    Ah.append([round(random.uniform(0,1),2),round(random.uniform(0,1),2),random.randint(1,2)])\n",
    "for i in range(len(Ah)):\n",
    "    for j in range(len(hyperbox)):\n",
    "        hyperbox[j][2] =\n",
    "    \n"
   ]
  },
  {
   "cell_type": "code",
   "execution_count": 64,
   "metadata": {},
   "outputs": [
    {
     "data": {
      "text/plain": [
       "2"
      ]
     },
     "execution_count": 64,
     "metadata": {},
     "output_type": "execute_result"
    }
   ],
   "source": [
    "random.randint(1,2)"
   ]
  }
 ],
 "metadata": {
  "kernelspec": {
   "display_name": "Python 3",
   "language": "python",
   "name": "python3"
  },
  "language_info": {
   "codemirror_mode": {
    "name": "ipython",
    "version": 3
   },
   "file_extension": ".py",
   "mimetype": "text/x-python",
   "name": "python",
   "nbconvert_exporter": "python",
   "pygments_lexer": "ipython3",
   "version": "3.6.3"
  }
 },
 "nbformat": 4,
 "nbformat_minor": 2
}
