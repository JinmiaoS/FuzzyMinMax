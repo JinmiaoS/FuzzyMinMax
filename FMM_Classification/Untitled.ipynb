{
 "cells": [
  {
   "cell_type": "code",
   "execution_count": 1,
   "metadata": {},
   "outputs": [
    {
     "name": "stdout",
     "output_type": "stream",
     "text": [
      "epoch : 1\n",
      "==================================================\n",
      "input pattern :  [0.2, 0.2] [1]\n",
      "Hyperbox : [0.2, 0.2] , [0.2, 0.2] \n",
      "==================================================\n",
      "input pattern :  [0.6, 0.6] [2]\n",
      "Hyperbox : [0.6, 0.6] , [0.6, 0.6] \n",
      "==================================================\n",
      "input pattern :  [0.5, 0.5] [1]\n",
      "Hyperbox : [0.2, 0.2] , [0.2, 0.2] \n",
      "Expanded Hyperbox :  [0.2, 0.2] [0.5, 0.5]\n",
      "==================================================\n",
      "input pattern :  [0.4, 0.3] [2]\n",
      "Hyperbox : [0.6, 0.6] , [0.6, 0.6] \n",
      "Expanded Hyperbox :  [0.4, 0.3] [0.6, 0.6]\n",
      "Contracted  Hyperbox 1 :  [0.2, 0.2] [0.45, 0.5]\n",
      "Contracted Hyperbox 2 :  [0.42500000000000004, 0.3] [0.6, 0.6]\n",
      "==================================================\n",
      "input pattern :  [0.8, 0.1] [1]\n",
      "Hyperbox : [0.8, 0.1] , [0.8, 0.1] \n",
      "==================================================\n",
      "input pattern :  [0.6, 0.2] [1]\n",
      "Hyperbox : [0.8, 0.1] , [0.8, 0.1] \n",
      "Expanded Hyperbox :  [0.6, 0.1] [0.8, 0.2]\n",
      "Contracted  Hyperbox 1 :  [0.2, 0.2] [0.4375, 0.5]\n",
      "Contracted Hyperbox 2 :  [0.43125, 0.3] [0.6, 0.6]\n",
      "==================================================\n",
      "input pattern :  [0.7, 0.6] [2]\n",
      "Hyperbox : [0.43125, 0.3] , [0.6, 0.6] \n",
      "Expanded Hyperbox :  [0.43125, 0.3] [0.7, 0.6]\n",
      "Contracted  Hyperbox 1 :  [0.2, 0.2] [0.434375, 0.5]\n",
      "Contracted Hyperbox 2 :  [0.43281250000000004, 0.3] [0.7, 0.6]\n",
      "==================================================\n",
      "input pattern :  [0.1, 0.7] [2]\n",
      "Hyperbox : [0.1, 0.7] , [0.1, 0.7] \n",
      "==================================================\n",
      "input pattern :  [0.3, 0.9] [2]\n",
      "Hyperbox : [0.1, 0.7] , [0.1, 0.7] \n",
      "Expanded Hyperbox :  [0.1, 0.7] [0.3, 0.9]\n",
      "Contracted  Hyperbox 1 :  [0.2, 0.2] [0.43359375, 0.5]\n",
      "Contracted Hyperbox 2 :  [0.433203125, 0.3] [0.7, 0.6]\n",
      "==================================================\n",
      "input pattern :  [0.7, 0.7] [1]\n",
      "Hyperbox : [0.7, 0.7] , [0.7, 0.7] \n",
      "==================================================\n",
      "input pattern :  [0.9, 0.9] [1]\n",
      "Hyperbox : [0.7, 0.7] , [0.7, 0.7] \n",
      "Expanded Hyperbox :  [0.7, 0.7] [0.9, 0.9]\n",
      "Contracted  Hyperbox 1 :  [0.2, 0.2] [0.4333984375, 0.5]\n",
      "Contracted Hyperbox 2 :  [0.43330078125000004, 0.3] [0.7, 0.6]\n",
      "==================================================\n",
      "final hyperbox : \n",
      "V :  [[0.2, 0.2], [0.43330078125000004, 0.3], [0.6, 0.1], [0.1, 0.7], [0.7, 0.7]]\n",
      "W :  [[0.4333984375, 0.5], [0.7, 0.6], [0.8, 0.2], [0.3, 0.9], [0.9, 0.9]]\n",
      "pattern [0.2, 0.2] belongs to class 1 with fuzzy membership value : 1.0\n",
      "pattern [0.2, 0.2] belongs to class 2 with fuzzy membership value : 0.9166748046875\n",
      "================================================================================\n",
      "pattern [0.6, 0.6] belongs to class 1 with fuzzy membership value : 0.95\n",
      "pattern [0.6, 0.6] belongs to class 2 with fuzzy membership value : 1.0\n",
      "================================================================================\n",
      "pattern [0.5, 0.5] belongs to class 1 with fuzzy membership value : 0.983349609375\n",
      "pattern [0.5, 0.5] belongs to class 2 with fuzzy membership value : 1.0\n",
      "================================================================================\n",
      "pattern [0.4, 0.3] belongs to class 1 with fuzzy membership value : 1.0\n",
      "pattern [0.4, 0.3] belongs to class 2 with fuzzy membership value : 0.9916748046875\n",
      "================================================================================\n",
      "pattern [0.8, 0.1] belongs to class 1 with fuzzy membership value : 1.0\n",
      "pattern [0.8, 0.1] belongs to class 2 with fuzzy membership value : 0.925\n",
      "================================================================================\n",
      "pattern [0.6, 0.2] belongs to class 1 with fuzzy membership value : 1.0\n",
      "pattern [0.6, 0.2] belongs to class 2 with fuzzy membership value : 0.975\n",
      "================================================================================\n",
      "pattern [0.7, 0.6] belongs to class 1 with fuzzy membership value : 0.975\n",
      "pattern [0.7, 0.6] belongs to class 2 with fuzzy membership value : 1.0\n",
      "================================================================================\n",
      "pattern [0.1, 0.7] belongs to class 1 with fuzzy membership value : 0.925\n",
      "pattern [0.1, 0.7] belongs to class 2 with fuzzy membership value : 1.0\n",
      "================================================================================\n",
      "pattern [0.3, 0.9] belongs to class 1 with fuzzy membership value : 0.9\n",
      "pattern [0.3, 0.9] belongs to class 2 with fuzzy membership value : 1.0\n",
      "================================================================================\n",
      "pattern [0.7, 0.7] belongs to class 1 with fuzzy membership value : 1.0\n",
      "pattern [0.7, 0.7] belongs to class 2 with fuzzy membership value : 0.975\n",
      "================================================================================\n",
      "pattern [0.9, 0.9] belongs to class 1 with fuzzy membership value : 1.0\n",
      "pattern [0.9, 0.9] belongs to class 2 with fuzzy membership value : 0.875\n",
      "================================================================================\n"
     ]
    },
    {
     "ename": "NameError",
     "evalue": "name 'plt' is not defined",
     "output_type": "error",
     "traceback": [
      "\u001b[0;31m---------------------------------------------------------------------------\u001b[0m",
      "\u001b[0;31mNameError\u001b[0m                                 Traceback (most recent call last)",
      "\u001b[0;32m<ipython-input-1-eedc4a0b417a>\u001b[0m in \u001b[0;36m<module>\u001b[0;34m()\u001b[0m\n\u001b[0;32m----> 1\u001b[0;31m \u001b[0;32mfrom\u001b[0m \u001b[0mF_Min_Max\u001b[0m \u001b[0;32mimport\u001b[0m \u001b[0;34m*\u001b[0m\u001b[0;34m\u001b[0m\u001b[0m\n\u001b[0m",
      "\u001b[0;32m~/Fuzzy/FMM_Classification/F_Min_Max.py\u001b[0m in \u001b[0;36m<module>\u001b[0;34m()\u001b[0m\n\u001b[1;32m    244\u001b[0m     \u001b[0mplot\u001b[0m \u001b[0mdataset\u001b[0m\u001b[0;34m\u001b[0m\u001b[0m\n\u001b[1;32m    245\u001b[0m \"\"\"\n\u001b[0;32m--> 246\u001b[0;31m \u001b[0mfig1\u001b[0m \u001b[0;34m=\u001b[0m \u001b[0mplt\u001b[0m\u001b[0;34m.\u001b[0m\u001b[0mfigure\u001b[0m\u001b[0;34m(\u001b[0m\u001b[0;34m)\u001b[0m\u001b[0;34m\u001b[0m\u001b[0m\n\u001b[0m\u001b[1;32m    247\u001b[0m \u001b[0max\u001b[0m \u001b[0;34m=\u001b[0m \u001b[0mfig1\u001b[0m\u001b[0;34m.\u001b[0m\u001b[0madd_subplot\u001b[0m\u001b[0;34m(\u001b[0m\u001b[0;36m111\u001b[0m\u001b[0;34m,\u001b[0m \u001b[0maspect\u001b[0m\u001b[0;34m=\u001b[0m\u001b[0;34m'equal'\u001b[0m\u001b[0;34m,\u001b[0m\u001b[0malpha\u001b[0m\u001b[0;34m=\u001b[0m\u001b[0;36m0.7\u001b[0m\u001b[0;34m)\u001b[0m\u001b[0;34m\u001b[0m\u001b[0m\n\u001b[1;32m    248\u001b[0m \u001b[0;34m\u001b[0m\u001b[0m\n",
      "\u001b[0;31mNameError\u001b[0m: name 'plt' is not defined"
     ]
    }
   ],
   "source": [
    "from F_Min_Max import * "
   ]
  },
  {
   "cell_type": "code",
   "execution_count": null,
   "metadata": {
    "collapsed": true
   },
   "outputs": [],
   "source": []
  }
 ],
 "metadata": {
  "kernelspec": {
   "display_name": "Python 3",
   "language": "python",
   "name": "python3"
  },
  "language_info": {
   "codemirror_mode": {
    "name": "ipython",
    "version": 3
   },
   "file_extension": ".py",
   "mimetype": "text/x-python",
   "name": "python",
   "nbconvert_exporter": "python",
   "pygments_lexer": "ipython3",
   "version": "3.6.3"
  }
 },
 "nbformat": 4,
 "nbformat_minor": 2
}
